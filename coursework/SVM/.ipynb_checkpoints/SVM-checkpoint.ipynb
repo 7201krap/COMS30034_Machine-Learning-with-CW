{
 "cells": [
  {
   "cell_type": "code",
   "execution_count": null,
   "metadata": {
    "id": "1Etkc4wspIk0"
   },
   "outputs": [],
   "source": [
    "from sklearn.svm import SVC, LinearSVC\n",
    "from sklearn.datasets import fetch_openml\n",
    "from sklearn.model_selection import learning_curve, RandomizedSearchCV, GridSearchCV\n",
    "from sklearn.model_selection import train_test_split, KFold\n",
    "import matplotlib.pyplot as plt\n",
    "from sklearn.datasets import make_classification\n",
    "import numpy as np\n",
    "from sklearn.pipeline import make_pipeline\n",
    "from sklearn.preprocessing import StandardScaler"
   ]
  },
  {
   "cell_type": "code",
   "execution_count": null,
   "metadata": {
    "id": "-CA6xCFzqOIu"
   },
   "outputs": [],
   "source": [
    "X, y = fetch_openml('mnist_784', return_X_y=True)"
   ]
  },
  {
   "cell_type": "code",
   "execution_count": null,
   "metadata": {
    "id": "mZfq1PYIgUPe"
   },
   "outputs": [],
   "source": [
    "scaler = StandardScaler()\n",
    "scaled_X = scaler.fit_transform(X)"
   ]
  },
  {
   "cell_type": "code",
   "execution_count": null,
   "metadata": {
    "id": "J07K2z4Lsr_R"
   },
   "outputs": [],
   "source": [
    "X_train, X_test, y_train, y_test = train_test_split(scaled_X, y, test_size=0.2, random_state=42)"
   ]
  },
  {
   "cell_type": "markdown",
   "metadata": {
    "id": "ceCYRGbK2mPR"
   },
   "source": [
    "#### RBF"
   ]
  },
  {
   "cell_type": "code",
   "execution_count": null,
   "metadata": {
    "colab": {
     "base_uri": "https://localhost:8080/"
    },
    "id": "2tVF5BtAu6Nl",
    "outputId": "bf401cfd-b7bd-495e-e8b1-8fec36ed2930"
   },
   "outputs": [
    {
     "name": "stdout",
     "output_type": "stream",
     "text": [
      "0.9864464285714286 0.9631428571428572\n"
     ]
    }
   ],
   "source": [
    "model_rbf = SVC(kernel='rbf')\n",
    "model_rbf.fit(X_train, y_train)\n",
    "print(model_rbf.score(X_train, y_train), model_rbf.score(X_test, y_test))"
   ]
  },
  {
   "cell_type": "code",
   "execution_count": null,
   "metadata": {
    "id": "FMRrCTr85zxA"
   },
   "outputs": [],
   "source": [
    "model_rbf.get_params"
   ]
  },
  {
   "cell_type": "code",
   "execution_count": null,
   "metadata": {
    "id": "NEeskRm18MkT"
   },
   "outputs": [],
   "source": [
    "model_rbf_C10 = SVC(kernel='rbf', C=10)\n",
    "model_rbf_C100 = SVC(kernel='rbf', C=100)\n",
    "model_rbf_C1000 = SVC(kernel='rbf', C=1000)\n",
    "model_rbf_C10000 = SVC(kernel='rbf', C=10000)"
   ]
  },
  {
   "cell_type": "code",
   "execution_count": null,
   "metadata": {
    "colab": {
     "base_uri": "https://localhost:8080/"
    },
    "id": "U9vD-vvc8jfb",
    "outputId": "47322016-2c6b-4f73-e78a-2b7710785395"
   },
   "outputs": [
    {
     "name": "stdout",
     "output_type": "stream",
     "text": [
      "0.9993214285714286 0.9700714285714286\n"
     ]
    }
   ],
   "source": [
    "model_rbf_C10.fit(X_train, y_train)\n",
    "print(model_rbf_C10.score(X_train, y_train), model_rbf_C10.score(X_test, y_test))"
   ]
  },
  {
   "cell_type": "code",
   "execution_count": null,
   "metadata": {
    "colab": {
     "base_uri": "https://localhost:8080/"
    },
    "id": "mp9LTg958ogN",
    "outputId": "e74fc9a7-7ae4-4ce0-97ad-01394a043cab"
   },
   "outputs": [
    {
     "name": "stdout",
     "output_type": "stream",
     "text": [
      "1.0 0.9697857142857143\n"
     ]
    }
   ],
   "source": [
    "model_rbf_C100.fit(X_train, y_train)\n",
    "print(model_rbf_C100.score(X_train, y_train), model_rbf_C100.score(X_test, y_test))"
   ]
  },
  {
   "cell_type": "code",
   "execution_count": null,
   "metadata": {
    "colab": {
     "base_uri": "https://localhost:8080/"
    },
    "id": "xqRvGSCJ8t5H",
    "outputId": "8e1b60bb-dbcf-483f-ad30-38cad3869119"
   },
   "outputs": [
    {
     "name": "stdout",
     "output_type": "stream",
     "text": [
      "1.0 0.9697857142857143\n"
     ]
    }
   ],
   "source": [
    "model_rbf_C1000.fit(X_train, y_train)\n",
    "print(model_rbf_C1000.score(X_train, y_train), model_rbf_C1000.score(X_test, y_test))"
   ]
  },
  {
   "cell_type": "code",
   "execution_count": null,
   "metadata": {
    "colab": {
     "base_uri": "https://localhost:8080/"
    },
    "id": "19MRK6bD8uNC",
    "outputId": "9b247853-b974-4cf9-dc11-e9d2469144ae"
   },
   "outputs": [
    {
     "name": "stdout",
     "output_type": "stream",
     "text": [
      "1.0 0.9697857142857143\n"
     ]
    }
   ],
   "source": [
    "model_rbf_C10000.fit(X_train, y_train)\n",
    "print(model_rbf_C10000.score(X_train, y_train), model_rbf_C10000.score(X_test, y_test))"
   ]
  },
  {
   "cell_type": "code",
   "execution_count": null,
   "metadata": {
    "id": "Db_bHR0MEglM"
   },
   "outputs": [],
   "source": [
    "model_rbf_g1 = SVC(kernel='rbf', gamma=0.0001)\n",
    "model_rbf_g2 = SVC(kernel='rbf', gamma=0.001)\n",
    "model_rbf_g3 = SVC(kernel='rbf', gamma=0.01)\n",
    "model_rbf_g4 = SVC(kernel='rbf', gamma=0.1)\n",
    "model_rbf_g5 = SVC(kernel='rbf', gamma=1)\n",
    "model_rbf_g6 = SVC(kernel='rbf', gamma=10)\n",
    "model_rbf_g7 = SVC(kernel='rbf', gamma=100)"
   ]
  },
  {
   "cell_type": "code",
   "execution_count": null,
   "metadata": {
    "colab": {
     "base_uri": "https://localhost:8080/"
    },
    "id": "l4PQVzxOE03X",
    "outputId": "6477e60a-a48d-479f-b5f1-41fadd25a4a8"
   },
   "outputs": [
    {
     "name": "stdout",
     "output_type": "stream",
     "text": [
      "0.93975 0.9342142857142857\n"
     ]
    }
   ],
   "source": [
    "model_rbf_g1.fit(X_train, y_train)\n",
    "print(model_rbf_g1.score(X_train, y_train), model_rbf_g1.score(X_test, y_test))\n"
   ]
  },
  {
   "cell_type": "code",
   "execution_count": null,
   "metadata": {
    "colab": {
     "base_uri": "https://localhost:8080/"
    },
    "id": "Hpx03pDPE3wB",
    "outputId": "17577faf-c28b-4108-fff0-3791b17816b4"
   },
   "outputs": [
    {
     "name": "stdout",
     "output_type": "stream",
     "text": [
      "0.9812142857142857 0.9606428571428571\n"
     ]
    }
   ],
   "source": [
    "model_rbf_g2.fit(X_train, y_train)\n",
    "print(model_rbf_g2.score(X_train, y_train), model_rbf_g2.score(X_test, y_test))"
   ]
  },
  {
   "cell_type": "code",
   "execution_count": null,
   "metadata": {
    "colab": {
     "base_uri": "https://localhost:8080/"
    },
    "id": "jyqUR_HEE3z0",
    "outputId": "5a1380dd-78b1-4dd7-9464-76632aabf586"
   },
   "outputs": [
    {
     "name": "stdout",
     "output_type": "stream",
     "text": [
      "0.9996428571428572 0.8482142857142857\n"
     ]
    }
   ],
   "source": [
    "model_rbf_g3.fit(X_train, y_train)\n",
    "print(model_rbf_g3.score(X_train, y_train), model_rbf_g3.score(X_test, y_test))"
   ]
  },
  {
   "cell_type": "code",
   "execution_count": null,
   "metadata": {
    "colab": {
     "base_uri": "https://localhost:8080/"
    },
    "id": "Z0bwG1qrE34R",
    "outputId": "38ab63f7-53e4-467e-b182-ba3292da439d"
   },
   "outputs": [
    {
     "name": "stdout",
     "output_type": "stream",
     "text": [
      "1.0 0.19\n"
     ]
    }
   ],
   "source": [
    "model_rbf_g4.fit(X_train, y_train)\n",
    "print(model_rbf_g4.score(X_train, y_train), model_rbf_g4.score(X_test, y_test))"
   ]
  },
  {
   "cell_type": "markdown",
   "metadata": {
    "id": "pk7UOtiW2oRR"
   },
   "source": [
    "#### POLY"
   ]
  },
  {
   "cell_type": "code",
   "execution_count": null,
   "metadata": {
    "colab": {
     "base_uri": "https://localhost:8080/"
    },
    "id": "5qFZ0XdrwVzB",
    "outputId": "07a641a7-51b5-487f-dbc6-9a1f01cedea8"
   },
   "outputs": [
    {
     "name": "stdout",
     "output_type": "stream",
     "text": [
      "0.9771785714285715 0.9613571428571429\n"
     ]
    }
   ],
   "source": [
    "model_poly    = SVC(kernel='poly')\n",
    "model_poly.fit(X_train, y_train)\n",
    "print(model_poly.score(X_train, y_train), model_poly.score(X_test, y_test))"
   ]
  },
  {
   "cell_type": "markdown",
   "metadata": {
    "id": "zgaHptWK2qX9"
   },
   "source": [
    "#### SIGMOID"
   ]
  },
  {
   "cell_type": "code",
   "execution_count": null,
   "metadata": {
    "colab": {
     "base_uri": "https://localhost:8080/"
    },
    "id": "B5UItw0KFpc0",
    "outputId": "c0b82940-25a9-4625-a8f9-b3ad785bbcdb"
   },
   "outputs": [
    {
     "name": "stdout",
     "output_type": "stream",
     "text": [
      "0.8863571428571428 0.8843571428571428\n"
     ]
    }
   ],
   "source": [
    "model_sigmoid = SVC(kernel='sigmoid')\n",
    "model_sigmoid.fit(X_train, y_train)\n",
    "print(model_sigmoid.score(X_train, y_train), model_sigmoid.score(X_test, y_test))"
   ]
  },
  {
   "cell_type": "markdown",
   "metadata": {
    "id": "qmLtEFBD2sPX"
   },
   "source": [
    "#### LINEAR"
   ]
  },
  {
   "cell_type": "code",
   "execution_count": null,
   "metadata": {
    "colab": {
     "base_uri": "https://localhost:8080/"
    },
    "id": "RS-RkuPoTzRB",
    "outputId": "4e529102-cee8-4117-a8ae-a3df64ad9277"
   },
   "outputs": [
    {
     "name": "stderr",
     "output_type": "stream",
     "text": [
      "/usr/local/lib/python3.6/dist-packages/sklearn/svm/_base.py:947: ConvergenceWarning: Liblinear failed to converge, increase the number of iterations.\n",
      "  \"the number of iterations.\", ConvergenceWarning)\n"
     ]
    },
    {
     "name": "stdout",
     "output_type": "stream",
     "text": [
      "0.9220714285714285 0.906\n"
     ]
    }
   ],
   "source": [
    "model_linear = LinearSVC()\n",
    "model_linear.fit(X_train, y_train)\n",
    "print(model_linear.score(X_train, y_train), model_linear.score(X_test, y_test))"
   ]
  },
  {
   "cell_type": "markdown",
   "metadata": {
    "id": "kjIp_C7NzKyu"
   },
   "source": [
    "### Learning Curve"
   ]
  },
  {
   "cell_type": "code",
   "execution_count": null,
   "metadata": {
    "colab": {
     "base_uri": "https://localhost:8080/"
    },
    "id": "gz2qsC_ZzO4I",
    "outputId": "79160ae2-cc86-4df6-9764-64a1498044e1"
   },
   "outputs": [
    {
     "name": "stdout",
     "output_type": "stream",
     "text": [
      "[learning_curve] Training set sizes: [  448  5376 10304 15232 20160 25088 30016 34944 39872 44800]\n"
     ]
    },
    {
     "name": "stderr",
     "output_type": "stream",
     "text": [
      "[Parallel(n_jobs=-1)]: Using backend LokyBackend with 40 concurrent workers.\n",
      "[Parallel(n_jobs=-1)]: Done  50 out of  50 | elapsed: 32.3min finished\n"
     ]
    }
   ],
   "source": [
    "model_rbf = SVC(kernel='rbf')\n",
    "train_sizes, train_scores, val_scores = learning_curve(model_rbf, X_train, y_train, cv=5, scoring='accuracy', n_jobs=-1, train_sizes=np.linspace(0.01, 1, 10), verbose=1)"
   ]
  },
  {
   "cell_type": "code",
   "execution_count": null,
   "metadata": {
    "id": "ym6qSDKKzV3z"
   },
   "outputs": [],
   "source": [
    "train_mean = np.mean(train_scores, axis = 1)\n",
    "train_std = np.std(train_scores, axis=1)\n",
    "val_mean = np.mean(val_scores, axis=1)\n",
    "val_std = np.std(val_scores, axis=1)"
   ]
  },
  {
   "cell_type": "code",
   "execution_count": null,
   "metadata": {
    "colab": {
     "base_uri": "https://localhost:8080/",
     "height": 295
    },
    "id": "112oaIvtzX1N",
    "outputId": "c61aef88-7210-4aa4-e6f7-67eaa17d873b"
   },
   "outputs": [
    {
     "data": {
      "image/png": "[encoded data removed]",
      "text/plain": [
       "<Figure size 432x288 with 1 Axes>"
      ]
     },
     "metadata": {
      "needs_background": "light",
      "tags": []
     },
     "output_type": "display_data"
    }
   ],
   "source": [
    "plt.plot(train_sizes, train_mean, label='Training score')\n",
    "plt.plot(train_sizes, val_mean, label='Cross-validation score')\n",
    "plt.title('Learning curve')\n",
    "plt.xlabel('Training Size')\n",
    "plt.ylabel('Accuracy score')\n",
    "plt.legend(loc='best')\n",
    "plt.show()"
   ]
  },
  {
   "cell_type": "markdown",
   "metadata": {
    "id": "0lplnmz8zl9h"
   },
   "source": [
    "### Finding the best parameters"
   ]
  },
  {
   "cell_type": "code",
   "execution_count": null,
   "metadata": {
    "colab": {
     "base_uri": "https://localhost:8080/"
    },
    "id": "PnGC3ZHUzoJW",
    "outputId": "b0da2bb8-e0c3-44d9-c7a7-b96cb34f173c"
   },
   "outputs": [
    {
     "name": "stdout",
     "output_type": "stream",
     "text": [
      "Fitting 5 folds for each of 12 candidates, totalling 60 fits\n"
     ]
    },
    {
     "name": "stderr",
     "output_type": "stream",
     "text": [
      "[Parallel(n_jobs=-1)]: Using backend LokyBackend with 40 concurrent workers.\n",
      "[Parallel(n_jobs=-1)]: Done  42 out of  60 | elapsed: 136.7min remaining: 58.6min\n",
      "[Parallel(n_jobs=-1)]: Done  60 out of  60 | elapsed: 166.8min finished\n"
     ]
    },
    {
     "data": {
      "text/plain": [
       "{'C': 10, 'gamma': 0.001}"
      ]
     },
     "execution_count": 12,
     "metadata": {
      "tags": []
     },
     "output_type": "execute_result"
    }
   ],
   "source": [
    "folds = KFold(n_splits = 5, shuffle = True, random_state = 10)\n",
    "\n",
    "# specify range of hyperparameters\n",
    "# Set the parameters by cross-validation\n",
    "hyper_params = [ {'gamma': [1e-2, 1e-3, 1e-4],\n",
    "                     'C': [1, 3, 5, 10]}]\n",
    "\n",
    "\n",
    "# specify model\n",
    "model = SVC(kernel=\"rbf\")\n",
    "\n",
    "# set up GridSearchCV()\n",
    "model_cv = GridSearchCV(estimator = model, \n",
    "                        param_grid = hyper_params, \n",
    "                        scoring= 'accuracy', \n",
    "                        cv = folds, \n",
    "                        verbose = 1,\n",
    "                        return_train_score=True,\n",
    "                        n_jobs=-1)      \n",
    "\n",
    "# fit the model\n",
    "model_cv.fit(X_train, y_train)\n",
    "model_cv.best_params_"
   ]
  },
  {
   "cell_type": "code",
   "execution_count": null,
   "metadata": {
    "colab": {
     "base_uri": "https://localhost:8080/"
    },
    "id": "gtfMSQxX5Tvs",
    "outputId": "e6fae868-535b-48d4-c486-2fe47e38bc12"
   },
   "outputs": [
    {
     "data": {
      "text/plain": [
       "0.9710357142857143"
      ]
     },
     "execution_count": 14,
     "metadata": {
      "tags": []
     },
     "output_type": "execute_result"
    }
   ],
   "source": [
    "model_cv.best_score_"
   ]
  },
  {
   "cell_type": "code",
   "execution_count": null,
   "metadata": {
    "colab": {
     "base_uri": "https://localhost:8080/"
    },
    "id": "-q9reLj-D0Lp",
    "outputId": "0c276501-90a0-4d60-f291-9a7e0f1e4acb"
   },
   "outputs": [
    {
     "name": "stdout",
     "output_type": "stream",
     "text": [
      "0.9983571428571428\n",
      "0.9712857142857143\n"
     ]
    }
   ],
   "source": [
    "model_rbf_C10_g0001 = SVC(kernel='rbf', C=10, gamma=0.001)\n",
    "model_rbf_C10_g0001.fit(X_train, y_train)\n",
    "print(model_rbf_C10_g0001.score(X_train, y_train))\n",
    "print(model_rbf_C10_g0001.score(X_test, y_test))"
   ]
  },
  {
   "cell_type": "code",
   "execution_count": null,
   "metadata": {
    "colab": {
     "base_uri": "https://localhost:8080/"
    },
    "id": "RELx0NSNBkFZ",
    "outputId": "da6c7736-0a39-4346-ef4b-6eda1a8cdda6"
   },
   "outputs": [
    {
     "name": "stdout",
     "output_type": "stream",
     "text": [
      "Fitting 5 folds for each of 5 candidates, totalling 25 fits\n"
     ]
    },
    {
     "name": "stderr",
     "output_type": "stream",
     "text": [
      "[Parallel(n_jobs=-1)]: Using backend LokyBackend with 40 concurrent workers.\n",
      "[Parallel(n_jobs=-1)]: Done  25 out of  25 | elapsed: 35.1min finished\n"
     ]
    },
    {
     "data": {
      "text/plain": [
       "{'C': 10}"
      ]
     },
     "execution_count": 6,
     "metadata": {
      "tags": []
     },
     "output_type": "execute_result"
    }
   ],
   "source": [
    "folds = KFold(n_splits = 5, shuffle = True, random_state = 10)\n",
    "\n",
    "# specify range of hyperparameters\n",
    "# Set the parameters by cross-validation\n",
    "hyper_params = [ {'C': [1, 3, 5, 7, 10] } ]\n",
    "\n",
    "\n",
    "# specify model\n",
    "model = SVC(kernel=\"rbf\")\n",
    "\n",
    "# set up GridSearchCV()\n",
    "model_cv_C = GridSearchCV(estimator = model, \n",
    "                        param_grid = hyper_params, \n",
    "                        scoring= 'accuracy', \n",
    "                        cv = folds, \n",
    "                        verbose = 1,\n",
    "                        return_train_score=True,\n",
    "                        n_jobs=-1)      \n",
    "\n",
    "# fit the model\n",
    "model_cv_C.fit(X_train, y_train)\n",
    "model_cv_C.best_params_"
   ]
  },
  {
   "cell_type": "code",
   "execution_count": null,
   "metadata": {
    "colab": {
     "base_uri": "https://localhost:8080/"
    },
    "id": "TYRp43h26TLl",
    "outputId": "dec55c10-e783-43f2-f7f6-74631dc7ec62"
   },
   "outputs": [
    {
     "data": {
      "text/plain": [
       "0.9705892857142857"
      ]
     },
     "execution_count": 9,
     "metadata": {
      "tags": []
     },
     "output_type": "execute_result"
    }
   ],
   "source": [
    "model_cv_C.best_score_"
   ]
  },
  {
   "cell_type": "code",
   "execution_count": null,
   "metadata": {
    "id": "LXbPSMowDuxm"
   },
   "outputs": [],
   "source": []
  }
 ],
 "metadata": {
  "colab": {
   "collapsed_sections": [],
   "name": "SVM.ipynb",
   "provenance": []
  },
  "kernelspec": {
   "display_name": "Python 3",
   "language": "python",
   "name": "python3"
  },
  "language_info": {
   "codemirror_mode": {
    "name": "ipython",
    "version": 3
   },
   "file_extension": ".py",
   "mimetype": "text/x-python",
   "name": "python",
   "nbconvert_exporter": "python",
   "pygments_lexer": "ipython3",
   "version": "3.8.5"
  }
 },
 "nbformat": 4,
 "nbformat_minor": 1
}
