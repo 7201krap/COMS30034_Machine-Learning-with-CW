{
 "cells": [
  {
   "cell_type": "code",
   "execution_count": 68,
   "metadata": {},
   "outputs": [],
   "source": [
    "from sklearn.datasets import fetch_california_housing\n",
    "from sklearn.preprocessing import StandardScaler\n",
    "from sklearn.ensemble import RandomForestRegressor\n",
    "from sklearn.model_selection import train_test_split, RandomizedSearchCV, learning_curve\n",
    "import ssl\n",
    "import pandas as pd\n",
    "import numpy as np\n",
    "import matplotlib.pyplot as plt"
   ]
  },
  {
   "cell_type": "code",
   "execution_count": 2,
   "metadata": {},
   "outputs": [],
   "source": [
    "housing = fetch_california_housing()"
   ]
  },
  {
   "cell_type": "code",
   "execution_count": 3,
   "metadata": {},
   "outputs": [
    {
     "data": {
      "text/plain": [
       "array([4.526, 3.585, 3.521, ..., 0.923, 0.847, 0.894])"
      ]
     },
     "execution_count": 3,
     "metadata": {},
     "output_type": "execute_result"
    }
   ],
   "source": [
    "housing.target"
   ]
  },
  {
   "cell_type": "code",
   "execution_count": 4,
   "metadata": {},
   "outputs": [
    {
     "data": {
      "text/html": [
       "<div>\n",
       "<style scoped>\n",
       "    .dataframe tbody tr th:only-of-type {\n",
       "        vertical-align: middle;\n",
       "    }\n",
       "\n",
       "    .dataframe tbody tr th {\n",
       "        vertical-align: top;\n",
       "    }\n",
       "\n",
       "    .dataframe thead th {\n",
       "        text-align: right;\n",
       "    }\n",
       "</style>\n",
       "<table border=\"1\" class=\"dataframe\">\n",
       "  <thead>\n",
       "    <tr style=\"text-align: right;\">\n",
       "      <th></th>\n",
       "      <th>MedInc</th>\n",
       "      <th>HouseAge</th>\n",
       "      <th>AveRooms</th>\n",
       "      <th>AveBedrms</th>\n",
       "      <th>Population</th>\n",
       "      <th>AveOccup</th>\n",
       "      <th>Latitude</th>\n",
       "      <th>Longitude</th>\n",
       "    </tr>\n",
       "  </thead>\n",
       "  <tbody>\n",
       "    <tr>\n",
       "      <th>0</th>\n",
       "      <td>8.3252</td>\n",
       "      <td>41.0</td>\n",
       "      <td>6.984127</td>\n",
       "      <td>1.023810</td>\n",
       "      <td>322.0</td>\n",
       "      <td>2.555556</td>\n",
       "      <td>37.88</td>\n",
       "      <td>-122.23</td>\n",
       "    </tr>\n",
       "    <tr>\n",
       "      <th>1</th>\n",
       "      <td>8.3014</td>\n",
       "      <td>21.0</td>\n",
       "      <td>6.238137</td>\n",
       "      <td>0.971880</td>\n",
       "      <td>2401.0</td>\n",
       "      <td>2.109842</td>\n",
       "      <td>37.86</td>\n",
       "      <td>-122.22</td>\n",
       "    </tr>\n",
       "    <tr>\n",
       "      <th>2</th>\n",
       "      <td>7.2574</td>\n",
       "      <td>52.0</td>\n",
       "      <td>8.288136</td>\n",
       "      <td>1.073446</td>\n",
       "      <td>496.0</td>\n",
       "      <td>2.802260</td>\n",
       "      <td>37.85</td>\n",
       "      <td>-122.24</td>\n",
       "    </tr>\n",
       "    <tr>\n",
       "      <th>3</th>\n",
       "      <td>5.6431</td>\n",
       "      <td>52.0</td>\n",
       "      <td>5.817352</td>\n",
       "      <td>1.073059</td>\n",
       "      <td>558.0</td>\n",
       "      <td>2.547945</td>\n",
       "      <td>37.85</td>\n",
       "      <td>-122.25</td>\n",
       "    </tr>\n",
       "    <tr>\n",
       "      <th>4</th>\n",
       "      <td>3.8462</td>\n",
       "      <td>52.0</td>\n",
       "      <td>6.281853</td>\n",
       "      <td>1.081081</td>\n",
       "      <td>565.0</td>\n",
       "      <td>2.181467</td>\n",
       "      <td>37.85</td>\n",
       "      <td>-122.25</td>\n",
       "    </tr>\n",
       "    <tr>\n",
       "      <th>...</th>\n",
       "      <td>...</td>\n",
       "      <td>...</td>\n",
       "      <td>...</td>\n",
       "      <td>...</td>\n",
       "      <td>...</td>\n",
       "      <td>...</td>\n",
       "      <td>...</td>\n",
       "      <td>...</td>\n",
       "    </tr>\n",
       "    <tr>\n",
       "      <th>20635</th>\n",
       "      <td>1.5603</td>\n",
       "      <td>25.0</td>\n",
       "      <td>5.045455</td>\n",
       "      <td>1.133333</td>\n",
       "      <td>845.0</td>\n",
       "      <td>2.560606</td>\n",
       "      <td>39.48</td>\n",
       "      <td>-121.09</td>\n",
       "    </tr>\n",
       "    <tr>\n",
       "      <th>20636</th>\n",
       "      <td>2.5568</td>\n",
       "      <td>18.0</td>\n",
       "      <td>6.114035</td>\n",
       "      <td>1.315789</td>\n",
       "      <td>356.0</td>\n",
       "      <td>3.122807</td>\n",
       "      <td>39.49</td>\n",
       "      <td>-121.21</td>\n",
       "    </tr>\n",
       "    <tr>\n",
       "      <th>20637</th>\n",
       "      <td>1.7000</td>\n",
       "      <td>17.0</td>\n",
       "      <td>5.205543</td>\n",
       "      <td>1.120092</td>\n",
       "      <td>1007.0</td>\n",
       "      <td>2.325635</td>\n",
       "      <td>39.43</td>\n",
       "      <td>-121.22</td>\n",
       "    </tr>\n",
       "    <tr>\n",
       "      <th>20638</th>\n",
       "      <td>1.8672</td>\n",
       "      <td>18.0</td>\n",
       "      <td>5.329513</td>\n",
       "      <td>1.171920</td>\n",
       "      <td>741.0</td>\n",
       "      <td>2.123209</td>\n",
       "      <td>39.43</td>\n",
       "      <td>-121.32</td>\n",
       "    </tr>\n",
       "    <tr>\n",
       "      <th>20639</th>\n",
       "      <td>2.3886</td>\n",
       "      <td>16.0</td>\n",
       "      <td>5.254717</td>\n",
       "      <td>1.162264</td>\n",
       "      <td>1387.0</td>\n",
       "      <td>2.616981</td>\n",
       "      <td>39.37</td>\n",
       "      <td>-121.24</td>\n",
       "    </tr>\n",
       "  </tbody>\n",
       "</table>\n",
       "<p>20640 rows × 8 columns</p>\n",
       "</div>"
      ],
      "text/plain": [
       "       MedInc  HouseAge  AveRooms  AveBedrms  Population  AveOccup  Latitude  \\\n",
       "0      8.3252      41.0  6.984127   1.023810       322.0  2.555556     37.88   \n",
       "1      8.3014      21.0  6.238137   0.971880      2401.0  2.109842     37.86   \n",
       "2      7.2574      52.0  8.288136   1.073446       496.0  2.802260     37.85   \n",
       "3      5.6431      52.0  5.817352   1.073059       558.0  2.547945     37.85   \n",
       "4      3.8462      52.0  6.281853   1.081081       565.0  2.181467     37.85   \n",
       "...       ...       ...       ...        ...         ...       ...       ...   \n",
       "20635  1.5603      25.0  5.045455   1.133333       845.0  2.560606     39.48   \n",
       "20636  2.5568      18.0  6.114035   1.315789       356.0  3.122807     39.49   \n",
       "20637  1.7000      17.0  5.205543   1.120092      1007.0  2.325635     39.43   \n",
       "20638  1.8672      18.0  5.329513   1.171920       741.0  2.123209     39.43   \n",
       "20639  2.3886      16.0  5.254717   1.162264      1387.0  2.616981     39.37   \n",
       "\n",
       "       Longitude  \n",
       "0        -122.23  \n",
       "1        -122.22  \n",
       "2        -122.24  \n",
       "3        -122.25  \n",
       "4        -122.25  \n",
       "...          ...  \n",
       "20635    -121.09  \n",
       "20636    -121.21  \n",
       "20637    -121.22  \n",
       "20638    -121.32  \n",
       "20639    -121.24  \n",
       "\n",
       "[20640 rows x 8 columns]"
      ]
     },
     "execution_count": 4,
     "metadata": {},
     "output_type": "execute_result"
    }
   ],
   "source": [
    "data = pd.DataFrame(data=housing.data, columns=housing.feature_names)\n",
    "data"
   ]
  },
  {
   "cell_type": "code",
   "execution_count": 5,
   "metadata": {},
   "outputs": [],
   "source": [
    "scaler = StandardScaler()\n",
    "scaled_data = scaler.fit_transform(data)"
   ]
  },
  {
   "cell_type": "code",
   "execution_count": 6,
   "metadata": {},
   "outputs": [
    {
     "data": {
      "text/html": [
       "<div>\n",
       "<style scoped>\n",
       "    .dataframe tbody tr th:only-of-type {\n",
       "        vertical-align: middle;\n",
       "    }\n",
       "\n",
       "    .dataframe tbody tr th {\n",
       "        vertical-align: top;\n",
       "    }\n",
       "\n",
       "    .dataframe thead th {\n",
       "        text-align: right;\n",
       "    }\n",
       "</style>\n",
       "<table border=\"1\" class=\"dataframe\">\n",
       "  <thead>\n",
       "    <tr style=\"text-align: right;\">\n",
       "      <th></th>\n",
       "      <th>MedInc</th>\n",
       "      <th>HouseAge</th>\n",
       "      <th>AveRooms</th>\n",
       "      <th>AveBedrms</th>\n",
       "      <th>Population</th>\n",
       "      <th>AveOccup</th>\n",
       "      <th>Latitude</th>\n",
       "      <th>Longitude</th>\n",
       "    </tr>\n",
       "  </thead>\n",
       "  <tbody>\n",
       "    <tr>\n",
       "      <th>0</th>\n",
       "      <td>2.344766</td>\n",
       "      <td>0.982143</td>\n",
       "      <td>0.628559</td>\n",
       "      <td>-0.153758</td>\n",
       "      <td>-0.974429</td>\n",
       "      <td>-0.049597</td>\n",
       "      <td>1.052548</td>\n",
       "      <td>-1.327835</td>\n",
       "    </tr>\n",
       "    <tr>\n",
       "      <th>1</th>\n",
       "      <td>2.332238</td>\n",
       "      <td>-0.607019</td>\n",
       "      <td>0.327041</td>\n",
       "      <td>-0.263336</td>\n",
       "      <td>0.861439</td>\n",
       "      <td>-0.092512</td>\n",
       "      <td>1.043185</td>\n",
       "      <td>-1.322844</td>\n",
       "    </tr>\n",
       "    <tr>\n",
       "      <th>2</th>\n",
       "      <td>1.782699</td>\n",
       "      <td>1.856182</td>\n",
       "      <td>1.155620</td>\n",
       "      <td>-0.049016</td>\n",
       "      <td>-0.820777</td>\n",
       "      <td>-0.025843</td>\n",
       "      <td>1.038503</td>\n",
       "      <td>-1.332827</td>\n",
       "    </tr>\n",
       "    <tr>\n",
       "      <th>3</th>\n",
       "      <td>0.932968</td>\n",
       "      <td>1.856182</td>\n",
       "      <td>0.156966</td>\n",
       "      <td>-0.049833</td>\n",
       "      <td>-0.766028</td>\n",
       "      <td>-0.050329</td>\n",
       "      <td>1.038503</td>\n",
       "      <td>-1.337818</td>\n",
       "    </tr>\n",
       "    <tr>\n",
       "      <th>4</th>\n",
       "      <td>-0.012881</td>\n",
       "      <td>1.856182</td>\n",
       "      <td>0.344711</td>\n",
       "      <td>-0.032906</td>\n",
       "      <td>-0.759847</td>\n",
       "      <td>-0.085616</td>\n",
       "      <td>1.038503</td>\n",
       "      <td>-1.337818</td>\n",
       "    </tr>\n",
       "    <tr>\n",
       "      <th>...</th>\n",
       "      <td>...</td>\n",
       "      <td>...</td>\n",
       "      <td>...</td>\n",
       "      <td>...</td>\n",
       "      <td>...</td>\n",
       "      <td>...</td>\n",
       "      <td>...</td>\n",
       "      <td>...</td>\n",
       "    </tr>\n",
       "    <tr>\n",
       "      <th>20635</th>\n",
       "      <td>-1.216128</td>\n",
       "      <td>-0.289187</td>\n",
       "      <td>-0.155023</td>\n",
       "      <td>0.077354</td>\n",
       "      <td>-0.512592</td>\n",
       "      <td>-0.049110</td>\n",
       "      <td>1.801647</td>\n",
       "      <td>-0.758826</td>\n",
       "    </tr>\n",
       "    <tr>\n",
       "      <th>20636</th>\n",
       "      <td>-0.691593</td>\n",
       "      <td>-0.845393</td>\n",
       "      <td>0.276881</td>\n",
       "      <td>0.462365</td>\n",
       "      <td>-0.944405</td>\n",
       "      <td>0.005021</td>\n",
       "      <td>1.806329</td>\n",
       "      <td>-0.818722</td>\n",
       "    </tr>\n",
       "    <tr>\n",
       "      <th>20637</th>\n",
       "      <td>-1.142593</td>\n",
       "      <td>-0.924851</td>\n",
       "      <td>-0.090318</td>\n",
       "      <td>0.049414</td>\n",
       "      <td>-0.369537</td>\n",
       "      <td>-0.071735</td>\n",
       "      <td>1.778237</td>\n",
       "      <td>-0.823713</td>\n",
       "    </tr>\n",
       "    <tr>\n",
       "      <th>20638</th>\n",
       "      <td>-1.054583</td>\n",
       "      <td>-0.845393</td>\n",
       "      <td>-0.040211</td>\n",
       "      <td>0.158778</td>\n",
       "      <td>-0.604429</td>\n",
       "      <td>-0.091225</td>\n",
       "      <td>1.778237</td>\n",
       "      <td>-0.873626</td>\n",
       "    </tr>\n",
       "    <tr>\n",
       "      <th>20639</th>\n",
       "      <td>-0.780129</td>\n",
       "      <td>-1.004309</td>\n",
       "      <td>-0.070443</td>\n",
       "      <td>0.138403</td>\n",
       "      <td>-0.033977</td>\n",
       "      <td>-0.043682</td>\n",
       "      <td>1.750146</td>\n",
       "      <td>-0.833696</td>\n",
       "    </tr>\n",
       "  </tbody>\n",
       "</table>\n",
       "<p>20640 rows × 8 columns</p>\n",
       "</div>"
      ],
      "text/plain": [
       "         MedInc  HouseAge  AveRooms  AveBedrms  Population  AveOccup  \\\n",
       "0      2.344766  0.982143  0.628559  -0.153758   -0.974429 -0.049597   \n",
       "1      2.332238 -0.607019  0.327041  -0.263336    0.861439 -0.092512   \n",
       "2      1.782699  1.856182  1.155620  -0.049016   -0.820777 -0.025843   \n",
       "3      0.932968  1.856182  0.156966  -0.049833   -0.766028 -0.050329   \n",
       "4     -0.012881  1.856182  0.344711  -0.032906   -0.759847 -0.085616   \n",
       "...         ...       ...       ...        ...         ...       ...   \n",
       "20635 -1.216128 -0.289187 -0.155023   0.077354   -0.512592 -0.049110   \n",
       "20636 -0.691593 -0.845393  0.276881   0.462365   -0.944405  0.005021   \n",
       "20637 -1.142593 -0.924851 -0.090318   0.049414   -0.369537 -0.071735   \n",
       "20638 -1.054583 -0.845393 -0.040211   0.158778   -0.604429 -0.091225   \n",
       "20639 -0.780129 -1.004309 -0.070443   0.138403   -0.033977 -0.043682   \n",
       "\n",
       "       Latitude  Longitude  \n",
       "0      1.052548  -1.327835  \n",
       "1      1.043185  -1.322844  \n",
       "2      1.038503  -1.332827  \n",
       "3      1.038503  -1.337818  \n",
       "4      1.038503  -1.337818  \n",
       "...         ...        ...  \n",
       "20635  1.801647  -0.758826  \n",
       "20636  1.806329  -0.818722  \n",
       "20637  1.778237  -0.823713  \n",
       "20638  1.778237  -0.873626  \n",
       "20639  1.750146  -0.833696  \n",
       "\n",
       "[20640 rows x 8 columns]"
      ]
     },
     "execution_count": 6,
     "metadata": {},
     "output_type": "execute_result"
    }
   ],
   "source": [
    "scaled_data = pd.DataFrame(data=scaled_data, columns=housing.feature_names)\n",
    "scaled_data"
   ]
  },
  {
   "cell_type": "code",
   "execution_count": 7,
   "metadata": {},
   "outputs": [],
   "source": [
    "X = scaled_data.values\n",
    "y = housing.target"
   ]
  },
  {
   "cell_type": "markdown",
   "metadata": {},
   "source": [
    "### training set and test set 준비 "
   ]
  },
  {
   "cell_type": "code",
   "execution_count": 8,
   "metadata": {},
   "outputs": [],
   "source": [
    "X_train, X_test, y_train, y_test = train_test_split(X, y, test_size=0.3, random_state=0)"
   ]
  },
  {
   "cell_type": "markdown",
   "metadata": {},
   "source": [
    "### Hyper-parameters of RandomForest"
   ]
  },
  {
   "cell_type": "markdown",
   "metadata": {},
   "source": [
    "1. max_depth \n",
    "- How deep the decision tree can be. The deeper the tree, the more splits it has & it captures more information about the data. However, in general a decision tree overfits for large depth values. Tree perfectly predicts all of the train data, however if fails to generalise the finding for new data. \n",
    "- If I set my max_depth too low, it is also not good. This will give the decision tree very little flexibility to capture the patterns & interactions in the training data. This will also cause the testing error to increase which is a case of underfitting.\n",
    "- Therefore it is essential to find appropriate hyper-parameters by using grid-search or random-search.\n",
    "\n",
    "2. min_samples_split \n",
    "- specifies the minimum number of samples required to split an internal node. \n",
    "- Specifiy a number to denote the minimum number \n",
    "- Specifiy a fraction to denote the percentage of samples in an internal node \n",
    "\n",
    "3. min_samples_leaf \n",
    "- minimum number of samples required to be at a leaf node.\n",
    "\n",
    "4. difference between 2 & 3 \n",
    "- The main difference between the two is that min_samples_leaf(3) gurantees a minimum number of samples in a leaf, while min_samples_split(2) can create arbitrary small leaves, though min_samples_split is more common in the literature.\n",
    "- For instance, if min_samples_split = 5 & there are 7 samples at an internal node, then the split is allowed. But let's say the split results in two leaves, one with 1 sample, and another with 6 samples. If min_samples_leaf=2 then the split won't be allowed even if the internal node has 7 samples because one of the leaves resulted will have less then the minimum number of samples required to be at a leaf node. \n",
    "\n",
    "5. max_features \n",
    "- represents the number of features to consider when looking for the best split \n",
    "- specify a number to denote the max_features at each split or a fraction to denote the percentage of features to consider while making a split. \n",
    "- sqrt, log2, None \n",
    "- important to control overfitting. \n",
    "\n",
    "6. criterion: Gini, entropy (IG)\n",
    "\n",
    "7. n_estimators \n",
    "- 트리의 갯수 \n",
    "\n",
    "8. bootstrap = True or False \n",
    "- method of selecting samples for training each time "
   ]
  },
  {
   "cell_type": "markdown",
   "metadata": {},
   "source": [
    "### Optimise the hyperparameter on a validation set"
   ]
  },
  {
   "cell_type": "code",
   "execution_count": 93,
   "metadata": {},
   "outputs": [],
   "source": [
    "n_est = [int(x) for x in np.linspace(10, 500, 10)]\n",
    "max_feaures = ['auto', 'sqrt', 'log2']\n",
    "max_depth   = [10, 100]\n",
    "min_samples_split = [2, 10]\n",
    "min_samples_leaf  = [1, 4]\n",
    "bootstrap = [True, False]"
   ]
  },
  {
   "cell_type": "code",
   "execution_count": 94,
   "metadata": {},
   "outputs": [],
   "source": [
    "param_rand = {'n_estimators' : n_est,\n",
    "              'max_features' : max_feaures,\n",
    "              'max_depth' : max_depth,\n",
    "              'min_samples_split' : min_samples_split,\n",
    "              'min_samples_leaf' : min_samples_leaf,\n",
    "              'bootstrap' : bootstrap\n",
    "             }"
   ]
  },
  {
   "cell_type": "code",
   "execution_count": 95,
   "metadata": {},
   "outputs": [],
   "source": [
    "rf_model = RandomForestRegressor(random_state=1)"
   ]
  },
  {
   "cell_type": "code",
   "execution_count": 96,
   "metadata": {},
   "outputs": [],
   "source": [
    "rf_random = RandomizedSearchCV(estimator=rf_model, param_distributions=param_rand, cv=10, verbose=2, n_jobs=-1)"
   ]
  },
  {
   "cell_type": "code",
   "execution_count": 97,
   "metadata": {},
   "outputs": [
    {
     "name": "stdout",
     "output_type": "stream",
     "text": [
      "Fitting 10 folds for each of 10 candidates, totalling 100 fits\n"
     ]
    },
    {
     "name": "stderr",
     "output_type": "stream",
     "text": [
      "[Parallel(n_jobs=-1)]: Using backend LokyBackend with 4 concurrent workers.\n",
      "[Parallel(n_jobs=-1)]: Done  33 tasks      | elapsed:  4.9min\n",
      "[Parallel(n_jobs=-1)]: Done 100 out of 100 | elapsed: 12.0min finished\n"
     ]
    },
    {
     "data": {
      "text/plain": [
       "RandomizedSearchCV(cv=10, estimator=RandomForestRegressor(random_state=1),\n",
       "                   n_jobs=-1,\n",
       "                   param_distributions={'bootstrap': [True, False],\n",
       "                                        'max_depth': [10, 100],\n",
       "                                        'max_features': ['auto', 'sqrt',\n",
       "                                                         'log2'],\n",
       "                                        'min_samples_leaf': [1, 4],\n",
       "                                        'min_samples_split': [2, 10],\n",
       "                                        'n_estimators': [10, 64, 118, 173, 227,\n",
       "                                                         282, 336, 391, 445,\n",
       "                                                         500]},\n",
       "                   verbose=2)"
      ]
     },
     "execution_count": 97,
     "metadata": {},
     "output_type": "execute_result"
    }
   ],
   "source": [
    "rf_random.fit(X_train, y_train)"
   ]
  },
  {
   "cell_type": "code",
   "execution_count": 100,
   "metadata": {},
   "outputs": [
    {
     "data": {
      "text/plain": [
       "{'n_estimators': 391,\n",
       " 'min_samples_split': 10,\n",
       " 'min_samples_leaf': 1,\n",
       " 'max_features': 'log2',\n",
       " 'max_depth': 100,\n",
       " 'bootstrap': False}"
      ]
     },
     "execution_count": 100,
     "metadata": {},
     "output_type": "execute_result"
    }
   ],
   "source": [
    "rf_random.best_params_"
   ]
  },
  {
   "cell_type": "code",
   "execution_count": 101,
   "metadata": {},
   "outputs": [
    {
     "name": "stdout",
     "output_type": "stream",
     "text": [
      "accuracy on training --> 0.980166746854691\n",
      "accuracy on testing --> 0.8203248976996331\n"
     ]
    }
   ],
   "source": [
    "print(\"accuracy on training -->\", rf_random.score(X_train, y_train))\n",
    "print(\"accuracy on testing -->\", rf_random.score(X_test, y_test))"
   ]
  },
  {
   "cell_type": "markdown",
   "metadata": {},
   "source": [
    "### the training and validation learning curves"
   ]
  },
  {
   "cell_type": "code",
   "execution_count": 102,
   "metadata": {},
   "outputs": [],
   "source": [
    "rf_model_lc = RandomForestRegressor(n_estimators=391,\n",
    "                                 min_samples_split=10,\n",
    "                                 min_samples_leaf=1,\n",
    "                                 max_features='log2',\n",
    "                                 max_depth=100,\n",
    "                                 bootstrap=False\n",
    "                                )"
   ]
  },
  {
   "cell_type": "code",
   "execution_count": null,
   "metadata": {},
   "outputs": [
    {
     "name": "stdout",
     "output_type": "stream",
     "text": [
      "[learning_curve] Training set sizes: [  130  1560  2990  4421  5851  7281  8712 10142 11572 13003]\n"
     ]
    },
    {
     "name": "stderr",
     "output_type": "stream",
     "text": [
      "[Parallel(n_jobs=-1)]: Using backend LokyBackend with 4 concurrent workers.\n",
      "[Parallel(n_jobs=-1)]: Done  50 out of 100 | elapsed:  3.7min remaining:  3.7min\n"
     ]
    }
   ],
   "source": [
    "train_sizes, train_scores, val_scores = learning_curve(rf_model_lc, X_train, y_train, cv=10, n_jobs=-1, train_sizes=np.linspace(0.01, 1, 10), verbose=2)"
   ]
  },
  {
   "cell_type": "code",
   "execution_count": null,
   "metadata": {},
   "outputs": [],
   "source": [
    "train_mean = np.mean(train_scores, axis = 1)\n",
    "train_std = np.std(train_scores, axis=1)\n",
    "val_mean = np.mean(val_scores, axis=1)\n",
    "val_std = np.std(val_scores, axis=1)"
   ]
  },
  {
   "cell_type": "code",
   "execution_count": null,
   "metadata": {},
   "outputs": [],
   "source": [
    "plt.plot(train_sizes, train_mean, label='Training score')\n",
    "plt.plot(train_sizes, val_mean, label='Cross-validation score')\n",
    "plt.title('Learning curve')\n",
    "plt.xlabel('Training Size')\n",
    "plt.ylabel('Accuracy score')\n",
    "plt.legend(loc='best')\n",
    "plt.show()"
   ]
  },
  {
   "cell_type": "markdown",
   "metadata": {},
   "source": [
    "### Plot the relationship between a hyperparameter and the performance"
   ]
  },
  {
   "cell_type": "markdown",
   "metadata": {},
   "source": [
    "#### 1. change number of tress in the forest "
   ]
  },
  {
   "cell_type": "code",
   "execution_count": 73,
   "metadata": {},
   "outputs": [],
   "source": [
    "rf_model_10_trees = RandomForestRegressor(n_estimators=10, min_samples_split=10, min_samples_leaf=1, max_features='log2', max_depth=100, bootstrap=False)\n",
    "rf_model_20_trees = RandomForestRegressor(n_estimators=20, min_samples_split=10, min_samples_leaf=1, max_features='log2', max_depth=100, bootstrap=False)\n",
    "rf_model_50_trees = RandomForestRegressor(n_estimators=50, min_samples_split=10, min_samples_leaf=1, max_features='log2', max_depth=100, bootstrap=False)\n",
    "rf_model_100_trees = RandomForestRegressor(n_estimators=100, min_samples_split=10, min_samples_leaf=1, max_features='log2', max_depth=100, bootstrap=False)    \n",
    "rf_model_250_trees = RandomForestRegressor(n_estimators=250, min_samples_split=10, min_samples_leaf=1, max_features='log2', max_depth=100, bootstrap=False)  \n",
    "rf_model_500_trees = RandomForestRegressor(n_estimators=500, min_samples_split=10, min_samples_leaf=1, max_features='log2', max_depth=100, bootstrap=False)                  "
   ]
  },
  {
   "cell_type": "code",
   "execution_count": 71,
   "metadata": {},
   "outputs": [
    {
     "ename": "AttributeError",
     "evalue": "'RandomForestRegressor' object has no attribute 'scaore'",
     "output_type": "error",
     "traceback": [
      "\u001b[0;31m---------------------------------------------------------------------------\u001b[0m",
      "\u001b[0;31mAttributeError\u001b[0m                            Traceback (most recent call last)",
      "\u001b[0;32m<ipython-input-71-f9c7d817f91f>\u001b[0m in \u001b[0;36m<module>\u001b[0;34m\u001b[0m\n\u001b[1;32m      1\u001b[0m \u001b[0mrf_model_10_trees\u001b[0m\u001b[0;34m.\u001b[0m\u001b[0mfit\u001b[0m\u001b[0;34m(\u001b[0m\u001b[0mX_train\u001b[0m\u001b[0;34m,\u001b[0m \u001b[0my_train\u001b[0m\u001b[0;34m)\u001b[0m\u001b[0;34m\u001b[0m\u001b[0;34m\u001b[0m\u001b[0m\n\u001b[0;32m----> 2\u001b[0;31m \u001b[0mprint\u001b[0m\u001b[0;34m(\u001b[0m\u001b[0mrf_model_10_trees\u001b[0m\u001b[0;34m.\u001b[0m\u001b[0mscaore\u001b[0m\u001b[0;34m(\u001b[0m\u001b[0mX_train\u001b[0m\u001b[0;34m,\u001b[0m \u001b[0my_train\u001b[0m\u001b[0;34m)\u001b[0m\u001b[0;34m)\u001b[0m\u001b[0;34m\u001b[0m\u001b[0;34m\u001b[0m\u001b[0m\n\u001b[0m\u001b[1;32m      3\u001b[0m \u001b[0mprint\u001b[0m\u001b[0;34m(\u001b[0m\u001b[0mrf_model_10_trees\u001b[0m\u001b[0;34m.\u001b[0m\u001b[0mscaore\u001b[0m\u001b[0;34m(\u001b[0m\u001b[0mX_test\u001b[0m\u001b[0;34m,\u001b[0m \u001b[0my_test\u001b[0m\u001b[0;34m)\u001b[0m\u001b[0;34m)\u001b[0m\u001b[0;34m\u001b[0m\u001b[0;34m\u001b[0m\u001b[0m\n",
      "\u001b[0;31mAttributeError\u001b[0m: 'RandomForestRegressor' object has no attribute 'scaore'"
     ]
    }
   ],
   "source": [
    "rf_model_10_trees.fit(X_train, y_train)\n",
    "print(rf_model_10_trees.score(X_train, y_train))\n",
    "print(rf_model_10_trees.score(X_test, y_test))"
   ]
  },
  {
   "cell_type": "code",
   "execution_count": null,
   "metadata": {},
   "outputs": [],
   "source": [
    "rf_model_20_trees.fit(X_train, y_train)\n",
    "print(rf_model_20_trees.score(X_train, y_train))\n",
    "print(rf_model_20_trees.score(X_test, y_test))"
   ]
  },
  {
   "cell_type": "code",
   "execution_count": 72,
   "metadata": {},
   "outputs": [
    {
     "ename": "AttributeError",
     "evalue": "'RandomForestRegressor' object has no attribute 'scaore'",
     "output_type": "error",
     "traceback": [
      "\u001b[0;31m---------------------------------------------------------------------------\u001b[0m",
      "\u001b[0;31mAttributeError\u001b[0m                            Traceback (most recent call last)",
      "\u001b[0;32m<ipython-input-72-55938aa65d15>\u001b[0m in \u001b[0;36m<module>\u001b[0;34m\u001b[0m\n\u001b[1;32m      1\u001b[0m \u001b[0mrf_model_50_trees\u001b[0m\u001b[0;34m.\u001b[0m\u001b[0mfit\u001b[0m\u001b[0;34m(\u001b[0m\u001b[0mX_train\u001b[0m\u001b[0;34m,\u001b[0m \u001b[0my_train\u001b[0m\u001b[0;34m)\u001b[0m\u001b[0;34m\u001b[0m\u001b[0;34m\u001b[0m\u001b[0m\n\u001b[0;32m----> 2\u001b[0;31m \u001b[0mprint\u001b[0m\u001b[0;34m(\u001b[0m\u001b[0mrf_model_50_trees\u001b[0m\u001b[0;34m.\u001b[0m\u001b[0mscaore\u001b[0m\u001b[0;34m(\u001b[0m\u001b[0mX_train\u001b[0m\u001b[0;34m,\u001b[0m \u001b[0my_train\u001b[0m\u001b[0;34m)\u001b[0m\u001b[0;34m)\u001b[0m\u001b[0;34m\u001b[0m\u001b[0;34m\u001b[0m\u001b[0m\n\u001b[0m\u001b[1;32m      3\u001b[0m \u001b[0mprint\u001b[0m\u001b[0;34m(\u001b[0m\u001b[0mrf_model_50_trees\u001b[0m\u001b[0;34m.\u001b[0m\u001b[0mscaore\u001b[0m\u001b[0;34m(\u001b[0m\u001b[0mX_test\u001b[0m\u001b[0;34m,\u001b[0m \u001b[0my_test\u001b[0m\u001b[0;34m)\u001b[0m\u001b[0;34m)\u001b[0m\u001b[0;34m\u001b[0m\u001b[0;34m\u001b[0m\u001b[0m\n",
      "\u001b[0;31mAttributeError\u001b[0m: 'RandomForestRegressor' object has no attribute 'scaore'"
     ]
    }
   ],
   "source": [
    "rf_model_50_trees.fit(X_train, y_train)\n",
    "print(rf_model_50_trees.score(X_train, y_train))\n",
    "print(rf_model_50_trees.score(X_test, y_test))"
   ]
  },
  {
   "cell_type": "code",
   "execution_count": null,
   "metadata": {},
   "outputs": [],
   "source": [
    "rf_model_100_trees.fit(X_train, y_train)\n",
    "print(rf_model_100_trees.score(X_train, y_train))\n",
    "print(rf_model_100_trees.score(X_test, y_test))"
   ]
  },
  {
   "cell_type": "code",
   "execution_count": null,
   "metadata": {},
   "outputs": [],
   "source": [
    "rf_model_250_trees.fit(X_train, y_train)\n",
    "print(rf_model_250_trees.score(X_train, y_train))\n",
    "print(rf_model_250_trees.score(X_test, y_test))"
   ]
  },
  {
   "cell_type": "code",
   "execution_count": null,
   "metadata": {},
   "outputs": [],
   "source": [
    "rf_model_500_trees.fit(X_train, y_train)\n",
    "print(rf_model_500_trees.score(X_train, y_train))\n",
    "print(rf_model_500_trees.score(X_test, y_test))"
   ]
  },
  {
   "cell_type": "markdown",
   "metadata": {},
   "source": [
    "#### 2. change max_features "
   ]
  },
  {
   "cell_type": "code",
   "execution_count": 74,
   "metadata": {},
   "outputs": [],
   "source": [
    "rf_model_auto = RandomForestRegressor(n_estimators=391, min_samples_split=10, min_samples_leaf=1, max_features='auto', max_depth=100, bootstrap=False)\n",
    "rf_model_sqrt = RandomForestRegressor(n_estimators=391, min_samples_split=10, min_samples_leaf=1, max_features='sqrt', max_depth=100, bootstrap=False)\n",
    "rf_model_log2 = RandomForestRegressor(n_estimators=391, min_samples_split=10, min_samples_leaf=1, max_features='log2', max_depth=100, bootstrap=False)"
   ]
  },
  {
   "cell_type": "code",
   "execution_count": null,
   "metadata": {},
   "outputs": [],
   "source": [
    "rf_model_auto.fit(X_train, y_train)\n",
    "print(rf_model_auto.score(X_train, y_train))\n",
    "print(rf_model_auto.score(X_test, y_test))"
   ]
  },
  {
   "cell_type": "code",
   "execution_count": null,
   "metadata": {},
   "outputs": [],
   "source": [
    "rf_model_sqrt.fit(X_train, y_train)\n",
    "print(rf_model_sqrt.score(X_train, y_train))\n",
    "print(rf_model_sqrt.score(X_test, y_test))"
   ]
  },
  {
   "cell_type": "code",
   "execution_count": null,
   "metadata": {},
   "outputs": [],
   "source": [
    "rf_model_log2.fit(X_train, y_train)\n",
    "print(rf_model_log2.score(X_train, y_train))\n",
    "print(rf_model_log2.score(X_test, y_test))"
   ]
  },
  {
   "cell_type": "markdown",
   "metadata": {},
   "source": [
    "#### 3. change max_depth"
   ]
  },
  {
   "cell_type": "code",
   "execution_count": null,
   "metadata": {},
   "outputs": [],
   "source": [
    "rf_model_5depth_trees = RandomForestRegressor(n_estimators=391, min_samples_split=10, min_samples_leaf=1, max_features='log2', max_depth=5, bootstrap=False)\n",
    "rf_model_10depth_trees = RandomForestRegressor(n_estimators=391, min_samples_split=10, min_samples_leaf=1, max_features='log2', max_depth=10, bootstrap=False)\n",
    "rf_model_20depth_trees = RandomForestRegressor(n_estimators=391, min_samples_split=10, min_samples_leaf=1, max_features='log2', max_depth=20, bootstrap=False)\n",
    "rf_model_50depth_trees = RandomForestRegressor(n_estimators=391, min_samples_split=10, min_samples_leaf=1, max_features='log2', max_depth=50, bootstrap=False)    \n",
    "rf_model_100depth_trees = RandomForestRegressor(n_estimators=391, min_samples_split=10, min_samples_leaf=1, max_features='log2', max_depth=100, bootstrap=False)      \n",
    "rf_model_200depth_trees = RandomForestRegressor(n_estimators=391, min_samples_split=10, min_samples_leaf=1, max_features='log2', max_depth=200, bootstrap=False)  "
   ]
  },
  {
   "cell_type": "code",
   "execution_count": null,
   "metadata": {},
   "outputs": [],
   "source": [
    "rf_model_5depth_trees.fit(X_train, y_train)\n",
    "print(rf_model_5depth_trees.score(X_train, y_train))\n",
    "print(rf_model_5depth_trees.score(X_test, y_test))"
   ]
  },
  {
   "cell_type": "code",
   "execution_count": null,
   "metadata": {},
   "outputs": [],
   "source": [
    "rf_model_10depth_trees.fit(X_train, y_train)\n",
    "print(rf_model_10depth_trees.score(X_train, y_train))\n",
    "print(rf_model_10depth_trees.score(X_test, y_test))"
   ]
  },
  {
   "cell_type": "code",
   "execution_count": null,
   "metadata": {},
   "outputs": [],
   "source": [
    "rf_model_20depth_trees.fit(X_train, y_train)\n",
    "print(rf_model_20depth_trees.score(X_train, y_train))\n",
    "print(rf_model_20depth_trees.score(X_test, y_test))"
   ]
  },
  {
   "cell_type": "code",
   "execution_count": null,
   "metadata": {},
   "outputs": [],
   "source": [
    "rf_model_50depth_trees.fit(X_train, y_train)\n",
    "print(rf_model_50depth_trees.score(X_train, y_train))\n",
    "print(rf_model_50depth_trees.score(X_test, y_test))"
   ]
  },
  {
   "cell_type": "code",
   "execution_count": null,
   "metadata": {},
   "outputs": [],
   "source": [
    "rf_model_100depth_trees.fit(X_train, y_train)\n",
    "print(rf_model_100depth_trees.score(X_train, y_train))\n",
    "print(rf_model_100depth_trees.score(X_test, y_test))"
   ]
  },
  {
   "cell_type": "code",
   "execution_count": null,
   "metadata": {},
   "outputs": [],
   "source": [
    "rf_model_200depth_trees.fit(X_train, y_train)\n",
    "print(rf_model_200depth_trees.score(X_train, y_train))\n",
    "print(rf_model_200depth_trees.score(X_test, y_test))"
   ]
  }
 ],
 "metadata": {
  "kernelspec": {
   "display_name": "Python 3",
   "language": "python",
   "name": "python3"
  },
  "language_info": {
   "codemirror_mode": {
    "name": "ipython",
    "version": 3
   },
   "file_extension": ".py",
   "mimetype": "text/x-python",
   "name": "python",
   "nbconvert_exporter": "python",
   "pygments_lexer": "ipython3",
   "version": "3.8.5"
  }
 },
 "nbformat": 4,
 "nbformat_minor": 4
}
