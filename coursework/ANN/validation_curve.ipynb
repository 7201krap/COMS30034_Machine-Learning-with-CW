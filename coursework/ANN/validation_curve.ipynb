{
  "nbformat": 4,
  "nbformat_minor": 0,
  "metadata": {
    "colab": {
      "name": "ANN training and validation curve",
      "provenance": [],
      "machine_shape": "hm"
    },
    "kernelspec": {
      "name": "python3",
      "display_name": "Python 3"
    }
  },
  "cells": [
    {
      "cell_type": "code",
      "metadata": {
        "id": "BaCOHIbrJA9X"
      },
      "source": [
        "from sklearn.neural_network import MLPClassifier\n",
        "from sklearn.datasets import fetch_openml\n",
        "from sklearn.model_selection import learning_curve, RandomizedSearchCV\n",
        "import matplotlib.pyplot as plt\n",
        "from sklearn.model_selection import train_test_split\n",
        "import numpy as np\n",
        "from sklearn.preprocessing import StandardScaler\n",
        "from sklearn.linear_model import Ridge\n",
        "from sklearn.model_selection import validation_curve"
      ],
      "execution_count": null,
      "outputs": []
    },
    {
      "cell_type": "code",
      "metadata": {
        "id": "RFT2wGmGKLAk"
      },
      "source": [
        "X, y = fetch_openml('mnist_784', return_X_y=True)"
      ],
      "execution_count": null,
      "outputs": []
    },
    {
      "cell_type": "code",
      "metadata": {
        "id": "5orO7YA1KMTO"
      },
      "source": [
        "scaler = StandardScaler()\n",
        "scaled_X = scaler.fit_transform(X)"
      ],
      "execution_count": null,
      "outputs": []
    },
    {
      "cell_type": "code",
      "metadata": {
        "id": "j2cicnLPKNXV"
      },
      "source": [
        "X_train, X_test, y_train, y_test = train_test_split(X, y, test_size=0.2, random_state=42)"
      ],
      "execution_count": null,
      "outputs": []
    },
    {
      "cell_type": "code",
      "metadata": {
        "id": "n3qeq4ZkKx0e"
      },
      "source": [
        "indices = np.arange(y_train.shape[0])\n",
        "np.random.shuffle(indices)\n",
        "X_train, y_train = X_train[indices], y_train[indices]"
      ],
      "execution_count": null,
      "outputs": []
    },
    {
      "cell_type": "code",
      "metadata": {
        "id": "fmZeE9mdKOhX"
      },
      "source": [
        "mlp = MLPClassifier(\n",
        "                    random_state=1,\n",
        "                    hidden_layer_sizes = (258,),\n",
        "                    activation = 'relu',\n",
        "                    solver = 'adam',\n",
        "                    learning_rate_init = 0.0001,\n",
        "                    alpha = 2.22,\n",
        "                    n_iter_no_change = 25,\n",
        "                    max_iter=500,\n",
        "                    )"
      ],
      "execution_count": null,
      "outputs": []
    },
    {
      "cell_type": "code",
      "metadata": {
        "colab": {
          "base_uri": "https://localhost:8080/"
        },
        "id": "lJ01Q_BtKPj8",
        "outputId": "ac4c97b7-dc0e-459f-cfb2-b1aa92a525b4"
      },
      "source": [
        "train_scores, valid_scores = validation_curve(mlp, X_train, y_train, \"alpha\", np.logspace(-4, 1, 8), cv=5, n_jobs=-1, verbose=3)"
      ],
      "execution_count": null,
      "outputs": [
        {
          "output_type": "stream",
          "text": [
            "[Parallel(n_jobs=-1)]: Using backend LokyBackend with 4 concurrent workers.\n",
            "[Parallel(n_jobs=-1)]: Done  13 out of  40 | elapsed: 65.7min remaining: 136.5min\n",
            "[Parallel(n_jobs=-1)]: Done  27 out of  40 | elapsed: 134.2min remaining: 64.6min\n",
            "[Parallel(n_jobs=-1)]: Done  40 out of  40 | elapsed: 210.8min finished\n"
          ],
          "name": "stderr"
        }
      ]
    },
    {
      "cell_type": "code",
      "metadata": {
        "id": "P3AKMGhZMhYL"
      },
      "source": [
        "train_scores_mean = np.mean(train_scores, axis=1)\n",
        "train_scores_std = np.std(train_scores, axis=1)\n",
        "valid_scores_mean = np.mean(valid_scores, axis=1)\n",
        "valid_scores_std = np.std(valid_scores, axis=1)"
      ],
      "execution_count": null,
      "outputs": []
    },
    {
      "cell_type": "code",
      "metadata": {
        "id": "XSUmKgw-Nx6j"
      },
      "source": [
        "reg_range = np.logspace(-4, 4, 8)"
      ],
      "execution_count": null,
      "outputs": []
    },
    {
      "cell_type": "code",
      "metadata": {
        "colab": {
          "base_uri": "https://localhost:8080/",
          "height": 54
        },
        "id": "n08iT-yeN52y",
        "outputId": "d1bbedc0-29a8-406c-bea6-72a136ceba8b"
      },
      "source": [
        "plt.plot(reg_range, train_scores_mean, label='Training score')\n",
        "plt.plot(reg_range, valid_scores_mean, label='Cross-validation score')\n",
        "plt.title('Validation curve')\n",
        "plt.xlabel('Regularizer')\n",
        "plt.ylabel('Accuracy score')\n",
        "plt.legend(loc='best')\n",
        "plt.show()"
      ],
      "execution_count": null,
      "outputs": [
        {
          "output_type": "display_data",
          "data": {
            "image/png": "[encoded data removed]",
            "text/plain": [
              "<Figure size 432x288 with 1 Axes>"
            ]
          },
          "metadata": {
            "tags": [],
            "needs_background": "light"
          }
        }
      ]
    },
    {
      "cell_type": "code",
      "metadata": {
        "id": "hb9MZaOzN9NL"
      },
      "source": [
        ""
      ],
      "execution_count": null,
      "outputs": []
    }
  ]
}