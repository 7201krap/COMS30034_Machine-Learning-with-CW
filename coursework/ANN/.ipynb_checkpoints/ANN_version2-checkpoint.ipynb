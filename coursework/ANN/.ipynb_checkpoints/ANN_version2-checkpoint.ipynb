{
 "cells": [
  {
   "cell_type": "code",
   "execution_count": 1,
   "metadata": {
    "id": "qFThfRwGaPXf"
   },
   "outputs": [],
   "source": [
    "from sklearn.neural_network import MLPClassifier\n",
    "from sklearn.datasets import fetch_openml\n",
    "from sklearn.model_selection import learning_curve, RandomizedSearchCV\n",
    "import matplotlib.pyplot as plt\n",
    "from sklearn.model_selection import train_test_split\n",
    "import numpy as np\n",
    "from sklearn.preprocessing import StandardScaler"
   ]
  },
  {
   "cell_type": "code",
   "execution_count": 2,
   "metadata": {
    "id": "TQUpz4USaY7K"
   },
   "outputs": [],
   "source": [
    "X, y = fetch_openml('mnist_784', return_X_y=True)"
   ]
  },
  {
   "cell_type": "code",
   "execution_count": 3,
   "metadata": {
    "id": "L_VDX-Ccg4zO"
   },
   "outputs": [],
   "source": [
    "scaler = StandardScaler()\n",
    "scaled_X = scaler.fit_transform(X)"
   ]
  },
  {
   "cell_type": "code",
   "execution_count": 4,
   "metadata": {
    "id": "SsJs1F-tacrY"
   },
   "outputs": [],
   "source": [
    "X_train, X_test, y_train, y_test = train_test_split(X, y, test_size=0.2, random_state=42)"
   ]
  },
  {
   "cell_type": "code",
   "execution_count": null,
   "metadata": {
    "id": "X-sh98FUagzh"
   },
   "outputs": [],
   "source": [
    "mlp = MLPClassifier(\n",
    "                    random_state=1,\n",
    "                    hidden_layer_sizes = (256,),\n",
    "                    activation = 'relu',\n",
    "                    solver = 'adam',\n",
    "                    learning_rate_init = 0.0001,\n",
    "                    alpha = 2.22,\n",
    "                    n_iter_no_change = 25,\n",
    "                    max_iter=500,\n",
    "                    )"
   ]
  },
  {
   "cell_type": "markdown",
   "metadata": {
    "id": "je2Vu0ZfazhT"
   },
   "source": [
    "### Learning Curve"
   ]
  },
  {
   "cell_type": "code",
   "execution_count": null,
   "metadata": {
    "colab": {
     "base_uri": "https://localhost:8080/"
    },
    "id": "eMDy3fsBao3w",
    "outputId": "b4a8f9f7-3172-48f3-a632-a3b4012fac5b"
   },
   "outputs": [
    {
     "name": "stdout",
     "output_type": "stream",
     "text": [
      "[learning_curve] Training set sizes: [  448  5376 10304 15232 20160 25088 30016 34944 39872 44800]\n"
     ]
    },
    {
     "name": "stderr",
     "output_type": "stream",
     "text": [
      "[Parallel(n_jobs=1)]: Using backend SequentialBackend with 1 concurrent workers.\n",
      "/usr/local/lib/python3.6/dist-packages/sklearn/neural_network/_multilayer_perceptron.py:571: ConvergenceWarning: Stochastic Optimizer: Maximum iterations (500) reached and the optimization hasn't converged yet.\n",
      "  % self.max_iter, ConvergenceWarning)\n",
      "/usr/local/lib/python3.6/dist-packages/sklearn/neural_network/_multilayer_perceptron.py:571: ConvergenceWarning: Stochastic Optimizer: Maximum iterations (500) reached and the optimization hasn't converged yet.\n",
      "  % self.max_iter, ConvergenceWarning)\n",
      "/usr/local/lib/python3.6/dist-packages/sklearn/neural_network/_multilayer_perceptron.py:571: ConvergenceWarning: Stochastic Optimizer: Maximum iterations (500) reached and the optimization hasn't converged yet.\n",
      "  % self.max_iter, ConvergenceWarning)\n",
      "/usr/local/lib/python3.6/dist-packages/sklearn/neural_network/_multilayer_perceptron.py:571: ConvergenceWarning: Stochastic Optimizer: Maximum iterations (500) reached and the optimization hasn't converged yet.\n",
      "  % self.max_iter, ConvergenceWarning)\n",
      "/usr/local/lib/python3.6/dist-packages/sklearn/neural_network/_multilayer_perceptron.py:571: ConvergenceWarning: Stochastic Optimizer: Maximum iterations (500) reached and the optimization hasn't converged yet.\n",
      "  % self.max_iter, ConvergenceWarning)\n",
      "/usr/local/lib/python3.6/dist-packages/sklearn/neural_network/_multilayer_perceptron.py:571: ConvergenceWarning: Stochastic Optimizer: Maximum iterations (500) reached and the optimization hasn't converged yet.\n",
      "  % self.max_iter, ConvergenceWarning)\n",
      "/usr/local/lib/python3.6/dist-packages/sklearn/neural_network/_multilayer_perceptron.py:571: ConvergenceWarning: Stochastic Optimizer: Maximum iterations (500) reached and the optimization hasn't converged yet.\n",
      "  % self.max_iter, ConvergenceWarning)\n",
      "/usr/local/lib/python3.6/dist-packages/sklearn/neural_network/_multilayer_perceptron.py:571: ConvergenceWarning: Stochastic Optimizer: Maximum iterations (500) reached and the optimization hasn't converged yet.\n",
      "  % self.max_iter, ConvergenceWarning)\n",
      "/usr/local/lib/python3.6/dist-packages/sklearn/neural_network/_multilayer_perceptron.py:571: ConvergenceWarning: Stochastic Optimizer: Maximum iterations (500) reached and the optimization hasn't converged yet.\n",
      "  % self.max_iter, ConvergenceWarning)\n",
      "/usr/local/lib/python3.6/dist-packages/sklearn/neural_network/_multilayer_perceptron.py:571: ConvergenceWarning: Stochastic Optimizer: Maximum iterations (500) reached and the optimization hasn't converged yet.\n",
      "  % self.max_iter, ConvergenceWarning)\n",
      "/usr/local/lib/python3.6/dist-packages/sklearn/neural_network/_multilayer_perceptron.py:571: ConvergenceWarning: Stochastic Optimizer: Maximum iterations (500) reached and the optimization hasn't converged yet.\n",
      "  % self.max_iter, ConvergenceWarning)\n",
      "/usr/local/lib/python3.6/dist-packages/sklearn/neural_network/_multilayer_perceptron.py:571: ConvergenceWarning: Stochastic Optimizer: Maximum iterations (500) reached and the optimization hasn't converged yet.\n",
      "  % self.max_iter, ConvergenceWarning)\n",
      "/usr/local/lib/python3.6/dist-packages/sklearn/neural_network/_multilayer_perceptron.py:571: ConvergenceWarning: Stochastic Optimizer: Maximum iterations (500) reached and the optimization hasn't converged yet.\n",
      "  % self.max_iter, ConvergenceWarning)\n",
      "/usr/local/lib/python3.6/dist-packages/sklearn/neural_network/_multilayer_perceptron.py:571: ConvergenceWarning: Stochastic Optimizer: Maximum iterations (500) reached and the optimization hasn't converged yet.\n",
      "  % self.max_iter, ConvergenceWarning)\n",
      "/usr/local/lib/python3.6/dist-packages/sklearn/neural_network/_multilayer_perceptron.py:571: ConvergenceWarning: Stochastic Optimizer: Maximum iterations (500) reached and the optimization hasn't converged yet.\n",
      "  % self.max_iter, ConvergenceWarning)\n",
      "/usr/local/lib/python3.6/dist-packages/sklearn/neural_network/_multilayer_perceptron.py:571: ConvergenceWarning: Stochastic Optimizer: Maximum iterations (500) reached and the optimization hasn't converged yet.\n",
      "  % self.max_iter, ConvergenceWarning)\n",
      "/usr/local/lib/python3.6/dist-packages/sklearn/neural_network/_multilayer_perceptron.py:571: ConvergenceWarning: Stochastic Optimizer: Maximum iterations (500) reached and the optimization hasn't converged yet.\n",
      "  % self.max_iter, ConvergenceWarning)\n",
      "/usr/local/lib/python3.6/dist-packages/sklearn/neural_network/_multilayer_perceptron.py:571: ConvergenceWarning: Stochastic Optimizer: Maximum iterations (500) reached and the optimization hasn't converged yet.\n",
      "  % self.max_iter, ConvergenceWarning)\n",
      "/usr/local/lib/python3.6/dist-packages/sklearn/neural_network/_multilayer_perceptron.py:571: ConvergenceWarning: Stochastic Optimizer: Maximum iterations (500) reached and the optimization hasn't converged yet.\n",
      "  % self.max_iter, ConvergenceWarning)\n",
      "/usr/local/lib/python3.6/dist-packages/sklearn/neural_network/_multilayer_perceptron.py:571: ConvergenceWarning: Stochastic Optimizer: Maximum iterations (500) reached and the optimization hasn't converged yet.\n",
      "  % self.max_iter, ConvergenceWarning)\n",
      "/usr/local/lib/python3.6/dist-packages/sklearn/neural_network/_multilayer_perceptron.py:571: ConvergenceWarning: Stochastic Optimizer: Maximum iterations (500) reached and the optimization hasn't converged yet.\n",
      "  % self.max_iter, ConvergenceWarning)\n",
      "/usr/local/lib/python3.6/dist-packages/sklearn/neural_network/_multilayer_perceptron.py:571: ConvergenceWarning: Stochastic Optimizer: Maximum iterations (500) reached and the optimization hasn't converged yet.\n",
      "  % self.max_iter, ConvergenceWarning)\n",
      "/usr/local/lib/python3.6/dist-packages/sklearn/neural_network/_multilayer_perceptron.py:571: ConvergenceWarning: Stochastic Optimizer: Maximum iterations (500) reached and the optimization hasn't converged yet.\n",
      "  % self.max_iter, ConvergenceWarning)\n",
      "/usr/local/lib/python3.6/dist-packages/sklearn/neural_network/_multilayer_perceptron.py:571: ConvergenceWarning: Stochastic Optimizer: Maximum iterations (500) reached and the optimization hasn't converged yet.\n",
      "  % self.max_iter, ConvergenceWarning)\n",
      "/usr/local/lib/python3.6/dist-packages/sklearn/neural_network/_multilayer_perceptron.py:571: ConvergenceWarning: Stochastic Optimizer: Maximum iterations (500) reached and the optimization hasn't converged yet.\n",
      "  % self.max_iter, ConvergenceWarning)\n",
      "[Parallel(n_jobs=1)]: Done  50 out of  50 | elapsed: 642.6min finished\n"
     ]
    }
   ],
   "source": [
    "train_sizes, train_scores, val_scores = learning_curve(mlp, X_train, y_train, cv=5, scoring='accuracy', n_jobs=1, train_sizes=np.linspace(0.01, 1, 10), verbose=1)"
   ]
  },
  {
   "cell_type": "code",
   "execution_count": null,
   "metadata": {
    "id": "F4XX4cDmar3N"
   },
   "outputs": [],
   "source": [
    "train_mean = np.mean(train_scores, axis = 1)\n",
    "train_std = np.std(train_scores, axis=1)\n",
    "val_mean = np.mean(val_scores, axis=1)\n",
    "val_std = np.std(val_scores, axis=1)"
   ]
  },
  {
   "cell_type": "code",
   "execution_count": null,
   "metadata": {
    "colab": {
     "base_uri": "https://localhost:8080/",
     "height": 295
    },
    "id": "BNdyxH8yauK3",
    "outputId": "e30341eb-8b54-4285-81d6-cde693a92f54"
   },
   "outputs": [
    {
     "data": {
      "image/png": "[encoded data removed]",
      "text/plain": [
       "<Figure size 432x288 with 1 Axes>"
      ]
     },
     "metadata": {
      "needs_background": "light",
      "tags": []
     },
     "output_type": "display_data"
    }
   ],
   "source": [
    "plt.plot(train_sizes, train_mean, label='Training score')\n",
    "plt.plot(train_sizes, val_mean, label='Cross-validation score')\n",
    "plt.title('Learning curve')\n",
    "plt.xlabel('Training Size')\n",
    "plt.ylabel('Accuracy score')\n",
    "plt.legend(loc='best')\n",
    "plt.show()"
   ]
  },
  {
   "cell_type": "markdown",
   "metadata": {
    "id": "DX1ZSEnra7xd"
   },
   "source": [
    "### Try with different learning rate"
   ]
  },
  {
   "cell_type": "markdown",
   "metadata": {
    "id": "7NhokKMTbB5K"
   },
   "source": [
    "#### lr = 0.0001"
   ]
  },
  {
   "cell_type": "code",
   "execution_count": null,
   "metadata": {
    "colab": {
     "base_uri": "https://localhost:8080/",
     "height": 315
    },
    "id": "u3lAf7HafpW9",
    "outputId": "2927b5bb-702c-41ed-a097-c4f276e469e5"
   },
   "outputs": [
    {
     "data": {
      "image/png": "[encoded data removed]",
      "text/plain": [
       "<Figure size 720x288 with 1 Axes>"
      ]
     },
     "metadata": {
      "needs_background": "light",
      "tags": []
     },
     "output_type": "display_data"
    },
    {
     "name": "stdout",
     "output_type": "stream",
     "text": [
      "0.9691428571428572\n",
      "0.998375\n"
     ]
    }
   ],
   "source": [
    "mlp_lr00001 = MLPClassifier(\n",
    "                    random_state=1,\n",
    "                    hidden_layer_sizes = (256,),\n",
    "                    activation = 'relu',\n",
    "                    solver = 'adam',\n",
    "                    learning_rate_init = 1e-4,\n",
    "                    alpha = 0,\n",
    "                    n_iter_no_change = 25,\n",
    "                    max_iter=500,\n",
    "                    )\n",
    "\n",
    "mlp_lr00001.fit(X_train, y_train)\n",
    "\n",
    "fig, ax = plt.subplots(figsize=(10,4))\n",
    "ax.plot(mlp_lr00001.loss_curve_)\n",
    "ax.set_xlabel('Number of iterations')\n",
    "ax.set_ylabel('Loss')\n",
    "plt.show()\n",
    "\n",
    "print(mlp_lr00001.score(X_test, y_test))\n",
    "print(mlp_lr00001.score(X_train, y_train))"
   ]
  },
  {
   "cell_type": "markdown",
   "metadata": {
    "id": "MFs0NmXBfykb"
   },
   "source": [
    "#### lr = 0.001"
   ]
  },
  {
   "cell_type": "code",
   "execution_count": null,
   "metadata": {
    "colab": {
     "base_uri": "https://localhost:8080/",
     "height": 313
    },
    "id": "DdBh91Mhf0rj",
    "outputId": "d3fbc255-eeef-4269-e6f1-2dfa426341fe"
   },
   "outputs": [
    {
     "data": {
      "image/png": "[encoded data removed]",
      "text/plain": [
       "<Figure size 720x288 with 1 Axes>"
      ]
     },
     "metadata": {
      "needs_background": "light",
      "tags": []
     },
     "output_type": "display_data"
    },
    {
     "name": "stdout",
     "output_type": "stream",
     "text": [
      "0.9752142857142857\n",
      "0.9980892857142857\n"
     ]
    }
   ],
   "source": [
    "mlp_lr0001 = MLPClassifier(\n",
    "                    random_state=1,\n",
    "                    hidden_layer_sizes = (256,),\n",
    "                    activation = 'relu',\n",
    "                    solver = 'adam',\n",
    "                    learning_rate_init = 1e-3,\n",
    "                    alpha = 0,\n",
    "                    n_iter_no_change = 25,\n",
    "                    max_iter=500,\n",
    "                    )\n",
    "\n",
    "mlp_lr0001.fit(X_train, y_train)\n",
    "\n",
    "fig, ax = plt.subplots(figsize=(10,4))\n",
    "ax.plot(mlp_lr0001.loss_curve_)\n",
    "ax.set_xlabel('Number of iterations')\n",
    "ax.set_ylabel('Loss')\n",
    "plt.show()\n",
    "\n",
    "print(mlp_lr0001.score(X_test, y_test))\n",
    "print(mlp_lr0001.score(X_train, y_train))"
   ]
  },
  {
   "cell_type": "markdown",
   "metadata": {
    "id": "MwKYWYe8bLJC"
   },
   "source": [
    "#### lr = 0.01"
   ]
  },
  {
   "cell_type": "code",
   "execution_count": null,
   "metadata": {
    "colab": {
     "base_uri": "https://localhost:8080/",
     "height": 313
    },
    "id": "LhRNKdfZbM7h",
    "outputId": "982189d5-cd2c-4e82-e7cc-6198b2a855fb"
   },
   "outputs": [
    {
     "data": {
      "image/png": "[encoded data removed]",
      "text/plain": [
       "<Figure size 720x288 with 1 Axes>"
      ]
     },
     "metadata": {
      "needs_background": "light",
      "tags": []
     },
     "output_type": "display_data"
    },
    {
     "name": "stdout",
     "output_type": "stream",
     "text": [
      "0.6205\n",
      "0.6154107142857143\n"
     ]
    }
   ],
   "source": [
    "mlp_lr001 = MLPClassifier(\n",
    "                    random_state=1,\n",
    "                    hidden_layer_sizes = (256,),\n",
    "                    activation = 'relu',\n",
    "                    solver = 'adam',\n",
    "                    learning_rate_init = 1e-2,\n",
    "                    alpha = 0,\n",
    "                    n_iter_no_change = 25,\n",
    "                    max_iter=500,\n",
    "                    )\n",
    "\n",
    "mlp_lr001.fit(X_train, y_train)\n",
    "\n",
    "fig, ax = plt.subplots(figsize=(10,4))\n",
    "ax.plot(mlp_lr001.loss_curve_)\n",
    "ax.set_xlabel('Number of iterations')\n",
    "ax.set_ylabel('Loss')\n",
    "plt.show()\n",
    "\n",
    "print(mlp_lr001.score(X_test, y_test))\n",
    "print(mlp_lr001.score(X_train, y_train))"
   ]
  },
  {
   "cell_type": "markdown",
   "metadata": {
    "id": "MyEdojvYbSuG"
   },
   "source": [
    "#### lr = 0.1"
   ]
  },
  {
   "cell_type": "code",
   "execution_count": null,
   "metadata": {
    "colab": {
     "base_uri": "https://localhost:8080/",
     "height": 313
    },
    "id": "UXIo_BanbUek",
    "outputId": "2c82543c-d64d-48c2-ebae-17e2699499ed"
   },
   "outputs": [
    {
     "data": {
      "image/png": "[encoded data removed]",
      "text/plain": [
       "<Figure size 720x288 with 1 Axes>"
      ]
     },
     "metadata": {
      "needs_background": "light",
      "tags": []
     },
     "output_type": "display_data"
    },
    {
     "name": "stdout",
     "output_type": "stream",
     "text": [
      "0.09885714285714285\n",
      "0.10046428571428571\n"
     ]
    }
   ],
   "source": [
    "mlp_lr01 = MLPClassifier(\n",
    "                    random_state=1,\n",
    "                    hidden_layer_sizes = (256,),\n",
    "                    activation = 'relu',\n",
    "                    solver = 'adam',\n",
    "                    learning_rate_init = 1e-1,\n",
    "                    alpha = 0,\n",
    "                    n_iter_no_change = 25,\n",
    "                    max_iter=500,\n",
    "                    )\n",
    "\n",
    "mlp_lr01.fit(X_train, y_train)\n",
    "\n",
    "fig, ax = plt.subplots(figsize=(10,4))\n",
    "ax.plot(mlp_lr01.loss_curve_)\n",
    "ax.set_xlabel('Number of iterations')\n",
    "ax.set_ylabel('Loss')\n",
    "plt.show()\n",
    "\n",
    "print(mlp_lr01.score(X_test, y_test))\n",
    "print(mlp_lr01.score(X_train, y_train))"
   ]
  },
  {
   "cell_type": "markdown",
   "metadata": {
    "id": "HkBkVBXveSuj"
   },
   "source": [
    "### Try with different alphas"
   ]
  },
  {
   "cell_type": "markdown",
   "metadata": {
    "id": "swkTGkxago0L"
   },
   "source": [
    "#### alpha = 0.00001\n",
    "\n"
   ]
  },
  {
   "cell_type": "code",
   "execution_count": null,
   "metadata": {
    "colab": {
     "base_uri": "https://localhost:8080/",
     "height": 313
    },
    "id": "yuV30v97eaJM",
    "outputId": "9bac3639-6b9f-4f37-9c7f-3af0897bb87e"
   },
   "outputs": [
    {
     "data": {
      "image/png": "[encoded data removed]",
      "text/plain": [
       "<Figure size 720x288 with 1 Axes>"
      ]
     },
     "metadata": {
      "needs_background": "light",
      "tags": []
     },
     "output_type": "display_data"
    },
    {
     "name": "stdout",
     "output_type": "stream",
     "text": [
      "0.9769285714285715\n",
      "0.9982142857142857\n"
     ]
    }
   ],
   "source": [
    "mlp_alpha000001 = MLPClassifier(\n",
    "                    random_state=1,\n",
    "                    hidden_layer_sizes = (256,),\n",
    "                    activation = 'relu',\n",
    "                    solver = 'adam',\n",
    "                    learning_rate_init = 1e-3,\n",
    "                    alpha = 0.00001,\n",
    "                    n_iter_no_change = 25,\n",
    "                    max_iter=500,\n",
    "                    )\n",
    "\n",
    "mlp_alpha000001.fit(X_train, y_train)\n",
    "\n",
    "fig, ax = plt.subplots(figsize=(10,4))\n",
    "ax.plot(mlp_alpha000001.loss_curve_)\n",
    "ax.set_xlabel('Number of iterations')\n",
    "ax.set_ylabel('Loss')\n",
    "plt.show()\n",
    "\n",
    "print(mlp_alpha000001.score(X_test, y_test))\n",
    "print(mlp_alpha000001.score(X_train, y_train))"
   ]
  },
  {
   "cell_type": "markdown",
   "metadata": {
    "id": "SRkt5d9lguL-"
   },
   "source": [
    "#### alpha = 0.0001"
   ]
  },
  {
   "cell_type": "code",
   "execution_count": null,
   "metadata": {
    "colab": {
     "base_uri": "https://localhost:8080/",
     "height": 313
    },
    "id": "ouH6PSZxe424",
    "outputId": "c7da3902-7b9a-4140-9103-1ad70c88aefd"
   },
   "outputs": [
    {
     "data": {
      "image/png": "[encoded data removed]",
      "text/plain": [
       "<Figure size 720x288 with 1 Axes>"
      ]
     },
     "metadata": {
      "needs_background": "light",
      "tags": []
     },
     "output_type": "display_data"
    },
    {
     "name": "stdout",
     "output_type": "stream",
     "text": [
      "0.9778571428571429\n",
      "0.9988928571428571\n"
     ]
    }
   ],
   "source": [
    "mlp_alpha00001 = MLPClassifier(\n",
    "                    random_state=1,\n",
    "                    hidden_layer_sizes = (256,),\n",
    "                    activation = 'relu',\n",
    "                    solver = 'adam',\n",
    "                    learning_rate_init = 1e-3,\n",
    "                    alpha = 0.0001,\n",
    "                    n_iter_no_change = 25,\n",
    "                    max_iter=500,\n",
    "                    )\n",
    "\n",
    "mlp_alpha00001.fit(X_train, y_train)\n",
    "\n",
    "fig, ax = plt.subplots(figsize=(10,4))\n",
    "ax.plot(mlp_alpha00001.loss_curve_)\n",
    "ax.set_xlabel('Number of iterations')\n",
    "ax.set_ylabel('Loss')\n",
    "plt.show()\n",
    "\n",
    "print(mlp_alpha00001.score(X_test, y_test))\n",
    "print(mlp_alpha00001.score(X_train, y_train))"
   ]
  },
  {
   "cell_type": "markdown",
   "metadata": {
    "id": "ElKu7Roigy3Z"
   },
   "source": [
    "#### alpha = 0.001"
   ]
  },
  {
   "cell_type": "code",
   "execution_count": null,
   "metadata": {
    "colab": {
     "base_uri": "https://localhost:8080/",
     "height": 313
    },
    "id": "WkIo7MQoe9Kf",
    "outputId": "5770c7d2-cc97-4590-8cff-32a05d76676f"
   },
   "outputs": [
    {
     "data": {
      "image/png": "[encoded data removed]",
      "text/plain": [
       "<Figure size 720x288 with 1 Axes>"
      ]
     },
     "metadata": {
      "needs_background": "light",
      "tags": []
     },
     "output_type": "display_data"
    },
    {
     "name": "stdout",
     "output_type": "stream",
     "text": [
      "0.9765\n",
      "0.998875\n"
     ]
    }
   ],
   "source": [
    "mlp_alpha0001 = MLPClassifier(\n",
    "                    random_state=1,\n",
    "                    hidden_layer_sizes = (256,),\n",
    "                    activation = 'relu',\n",
    "                    solver = 'adam',\n",
    "                    learning_rate_init = 1e-3,\n",
    "                    alpha = 0.001,\n",
    "                    n_iter_no_change = 25,\n",
    "                    max_iter=500,\n",
    "                    )\n",
    "\n",
    "mlp_alpha0001.fit(X_train, y_train)\n",
    "\n",
    "fig, ax = plt.subplots(figsize=(10,4))\n",
    "ax.plot(mlp_alpha0001.loss_curve_)\n",
    "ax.set_xlabel('Number of iterations')\n",
    "ax.set_ylabel('Loss')\n",
    "plt.show()\n",
    "\n",
    "print(mlp_alpha0001.score(X_test, y_test))\n",
    "print(mlp_alpha0001.score(X_train, y_train))"
   ]
  },
  {
   "cell_type": "markdown",
   "metadata": {
    "id": "wggAp66Eg3mT"
   },
   "source": [
    "#### alpha = 0.01"
   ]
  },
  {
   "cell_type": "code",
   "execution_count": null,
   "metadata": {
    "colab": {
     "base_uri": "https://localhost:8080/",
     "height": 313
    },
    "id": "NNLziRTGfLDC",
    "outputId": "327d595f-11cf-4bd1-e7e5-28a39776e54a"
   },
   "outputs": [
    {
     "data": {
      "image/png": "[encoded data removed]",
      "text/plain": [
       "<Figure size 720x288 with 1 Axes>"
      ]
     },
     "metadata": {
      "needs_background": "light",
      "tags": []
     },
     "output_type": "display_data"
    },
    {
     "name": "stdout",
     "output_type": "stream",
     "text": [
      "0.9742142857142857\n",
      "0.9975714285714286\n"
     ]
    }
   ],
   "source": [
    "mlp_alpha001 = MLPClassifier(\n",
    "                    random_state=1,\n",
    "                    hidden_layer_sizes = (256,),\n",
    "                    activation = 'relu',\n",
    "                    solver = 'adam',\n",
    "                    learning_rate_init = 1e-3,\n",
    "                    alpha = 0.01,\n",
    "                    n_iter_no_change = 25,\n",
    "                    max_iter=500,\n",
    "                    )\n",
    "\n",
    "mlp_alpha001.fit(X_train, y_train)\n",
    "\n",
    "fig, ax = plt.subplots(figsize=(10,4))\n",
    "ax.plot(mlp_alpha001.loss_curve_)\n",
    "ax.set_xlabel('Number of iterations')\n",
    "ax.set_ylabel('Loss')\n",
    "plt.show()\n",
    "\n",
    "print(mlp_alpha001.score(X_test, y_test))\n",
    "print(mlp_alpha001.score(X_train, y_train))"
   ]
  },
  {
   "cell_type": "markdown",
   "metadata": {
    "id": "DdDd6kbAg7-q"
   },
   "source": [
    "#### alpha = 0.1"
   ]
  },
  {
   "cell_type": "code",
   "execution_count": null,
   "metadata": {
    "colab": {
     "base_uri": "https://localhost:8080/",
     "height": 313
    },
    "id": "7Qmc8qTKfOtj",
    "outputId": "510bd820-b235-4ce9-e264-24f06011b090"
   },
   "outputs": [
    {
     "data": {
      "image/png": "[encoded data removed]",
      "text/plain": [
       "<Figure size 720x288 with 1 Axes>"
      ]
     },
     "metadata": {
      "needs_background": "light",
      "tags": []
     },
     "output_type": "display_data"
    },
    {
     "name": "stdout",
     "output_type": "stream",
     "text": [
      "0.9718571428571429\n",
      "0.9969642857142857\n"
     ]
    }
   ],
   "source": [
    "mlp_alpha01 = MLPClassifier(\n",
    "                    random_state=1,\n",
    "                    hidden_layer_sizes = (256,),\n",
    "                    activation = 'relu',\n",
    "                    solver = 'adam',\n",
    "                    learning_rate_init = 1e-3,\n",
    "                    alpha = 0.1,\n",
    "                    n_iter_no_change = 25,\n",
    "                    max_iter=500,\n",
    "                    )\n",
    "\n",
    "mlp_alpha01.fit(X_train, y_train)\n",
    "\n",
    "fig, ax = plt.subplots(figsize=(10,4))\n",
    "ax.plot(mlp_alpha01.loss_curve_)\n",
    "ax.set_xlabel('Number of iterations')\n",
    "ax.set_ylabel('Loss')\n",
    "plt.show()\n",
    "\n",
    "print(mlp_alpha01.score(X_test, y_test))\n",
    "print(mlp_alpha01.score(X_train, y_train))"
   ]
  },
  {
   "cell_type": "markdown",
   "metadata": {
    "id": "L93Ly5tvhAOx"
   },
   "source": [
    "#### alpha = 1"
   ]
  },
  {
   "cell_type": "code",
   "execution_count": null,
   "metadata": {
    "colab": {
     "base_uri": "https://localhost:8080/",
     "height": 313
    },
    "id": "5T03TzpsfSPs",
    "outputId": "cbee7b80-1852-41b8-9f32-ae444653c37c"
   },
   "outputs": [
    {
     "data": {
      "image/png": "[encoded data removed]",
      "text/plain": [
       "<Figure size 720x288 with 1 Axes>"
      ]
     },
     "metadata": {
      "needs_background": "light",
      "tags": []
     },
     "output_type": "display_data"
    },
    {
     "name": "stdout",
     "output_type": "stream",
     "text": [
      "0.9665714285714285\n",
      "0.9843928571428572\n"
     ]
    }
   ],
   "source": [
    "mlp_alpha1 = MLPClassifier(\n",
    "                    random_state=1,\n",
    "                    hidden_layer_sizes = (256,),\n",
    "                    activation = 'relu',\n",
    "                    solver = 'adam',\n",
    "                    learning_rate_init = 1e-3,\n",
    "                    alpha = 1,\n",
    "                    n_iter_no_change = 25,\n",
    "                    max_iter=500,\n",
    "                    )\n",
    "\n",
    "mlp_alpha1.fit(X_train, y_train)\n",
    "\n",
    "fig, ax = plt.subplots(figsize=(10,4))\n",
    "ax.plot(mlp_alpha1.loss_curve_)\n",
    "ax.set_xlabel('Number of iterations')\n",
    "ax.set_ylabel('Loss')\n",
    "plt.show()\n",
    "\n",
    "print(mlp_alpha1.score(X_test, y_test))\n",
    "print(mlp_alpha1.score(X_train, y_train))"
   ]
  },
  {
   "cell_type": "code",
   "execution_count": null,
   "metadata": {
    "id": "0t_c-_K3XvfF"
   },
   "outputs": [],
   "source": []
  },
  {
   "cell_type": "markdown",
   "metadata": {
    "id": "VyktGXFdbkc0"
   },
   "source": [
    "### Find Best Hyper-parameters : alpha (regularization) and learning rate"
   ]
  },
  {
   "cell_type": "code",
   "execution_count": null,
   "metadata": {
    "colab": {
     "base_uri": "https://localhost:8080/"
    },
    "id": "Sd0oo3QbbxE7",
    "outputId": "87676fc5-4c79-40a6-ebb6-0e2788fad518"
   },
   "outputs": [
    {
     "name": "stdout",
     "output_type": "stream",
     "text": [
      "Fitting 10 folds for each of 10 candidates, totalling 100 fits\n"
     ]
    },
    {
     "name": "stderr",
     "output_type": "stream",
     "text": [
      "[Parallel(n_jobs=10)]: Using backend LokyBackend with 10 concurrent workers.\n",
      "[Parallel(n_jobs=10)]: Done  21 tasks      | elapsed: 16.9min\n",
      "[Parallel(n_jobs=10)]: Done 100 out of 100 | elapsed: 87.1min finished\n"
     ]
    },
    {
     "data": {
      "text/plain": [
       "{'alpha': 2.2222222222222223, 'learning_rate_init': 0.0001}"
      ]
     },
     "execution_count": 9,
     "metadata": {
      "tags": []
     },
     "output_type": "execute_result"
    }
   ],
   "source": [
    "alphas = np.linspace(0, 10, 10)\n",
    "learning_rates = np.logspace(-4, -2, 10)\n",
    "parameters = {'learning_rate_init':learning_rates, 'alpha':alphas}\n",
    "\n",
    "nn = MLPClassifier(hidden_layer_sizes=(256,),\n",
    "                    activation='relu',\n",
    "                    solver='adam',\n",
    "                    max_iter=500,\n",
    "                    n_iter_no_change=25,\n",
    "                    random_state=1)\n",
    "\n",
    "clf = RandomizedSearchCV(nn, parameters, scoring='accuracy', n_iter=10, cv=10, verbose=2, n_jobs=10)\n",
    "\n",
    "clf.fit(X_train, y_train)\n",
    "clf.best_params_\n"
   ]
  },
  {
   "cell_type": "code",
   "execution_count": null,
   "metadata": {
    "id": "boN7SeMv3rXI"
   },
   "outputs": [],
   "source": [
    "clf.best_score_"
   ]
  },
  {
   "cell_type": "code",
   "execution_count": 5,
   "metadata": {
    "id": "Jomse6c9724h"
   },
   "outputs": [],
   "source": [
    "mlp_ = MLPClassifier(\n",
    "                    random_state=1,\n",
    "                    hidden_layer_sizes = (256,),\n",
    "                    activation = 'relu',\n",
    "                    solver = 'adam',\n",
    "                    learning_rate_init = 0.0001,\n",
    "                    alpha = 2.222,\n",
    "                    n_iter_no_change = 25,\n",
    "                    max_iter=500,\n",
    "                    )"
   ]
  },
  {
   "cell_type": "code",
   "execution_count": 6,
   "metadata": {
    "colab": {
     "base_uri": "https://localhost:8080/"
    },
    "id": "VxLGSaim8CI4",
    "outputId": "ca5c3f84-b518-43d3-ac41-c45bb0527eda"
   },
   "outputs": [
    {
     "name": "stderr",
     "output_type": "stream",
     "text": [
      "/Library/Frameworks/Python.framework/Versions/3.8/lib/python3.8/site-packages/sklearn/neural_network/_multilayer_perceptron.py:587: UserWarning: Training interrupted by user.\n",
      "  warnings.warn(\"Training interrupted by user.\")\n"
     ]
    },
    {
     "data": {
      "text/plain": [
       "MLPClassifier(alpha=2.222, hidden_layer_sizes=(256,), learning_rate_init=0.0001,\n",
       "              max_iter=500, n_iter_no_change=25, random_state=1)"
      ]
     },
     "execution_count": 6,
     "metadata": {},
     "output_type": "execute_result"
    }
   ],
   "source": [
    "mlp_.fit(X_train, y_train)"
   ]
  },
  {
   "cell_type": "code",
   "execution_count": 7,
   "metadata": {
    "colab": {
     "base_uri": "https://localhost:8080/"
    },
    "id": "E5Uq7Ydl85V6",
    "outputId": "ba8dd0c7-f17e-49b2-88a3-870ac7d35f8c"
   },
   "outputs": [
    {
     "data": {
      "text/plain": [
       "0.9975"
      ]
     },
     "execution_count": 7,
     "metadata": {},
     "output_type": "execute_result"
    }
   ],
   "source": [
    "mlp_.score(X_train, y_train)"
   ]
  },
  {
   "cell_type": "code",
   "execution_count": 8,
   "metadata": {
    "colab": {
     "base_uri": "https://localhost:8080/"
    },
    "id": "sGbYB7Nf883B",
    "outputId": "b0b8121c-193e-4432-dd10-3754945d0ddd"
   },
   "outputs": [
    {
     "data": {
      "text/plain": [
       "0.9595714285714285"
      ]
     },
     "execution_count": 8,
     "metadata": {},
     "output_type": "execute_result"
    }
   ],
   "source": [
    "mlp_.score(X_test, y_test)"
   ]
  },
  {
   "cell_type": "markdown",
   "metadata": {
    "id": "hg5AqiQyFsu-"
   },
   "source": [
    "### Loss Curve"
   ]
  },
  {
   "cell_type": "code",
   "execution_count": null,
   "metadata": {
    "id": "hlXeRQhtFt4n"
   },
   "outputs": [],
   "source": [
    "mlp_loss_curve = MLPClassifier(\n",
    "                    random_state=1,\n",
    "                    hidden_layer_sizes = (256,),\n",
    "                    activation = 'relu',\n",
    "                    solver = 'adam',\n",
    "                    learning_rate_init = 0.0001,\n",
    "                    alpha = 2.22,\n",
    "                    n_iter_no_change = 25,\n",
    "                    max_iter=1000,\n",
    "                    )"
   ]
  },
  {
   "cell_type": "code",
   "execution_count": null,
   "metadata": {
    "colab": {
     "base_uri": "https://localhost:8080/",
     "height": 279
    },
    "id": "ZKExcFSZVv02",
    "outputId": "e8fc0a9b-f262-4725-b124-7d0d5003a7c5"
   },
   "outputs": [
    {
     "data": {
      "image/png": "[encoded data removed]",
      "text/plain": [
       "<Figure size 720x288 with 1 Axes>"
      ]
     },
     "metadata": {
      "needs_background": "light",
      "tags": []
     },
     "output_type": "display_data"
    }
   ],
   "source": [
    "fig, ax = plt.subplots(figsize=(10,4))\n",
    "mlp_loss_curve.fit(X_train, y_train)\n",
    "ax.plot(mlp_loss_curve.loss_curve_)\n",
    "mlp_loss_curve.fit(X_test, y_test)\n",
    "ax.plot(mlp_loss_curve.loss_curve_)\n",
    "ax.set_xlabel('Number of iterations')\n",
    "ax.set_ylabel('Loss')\n",
    "plt.show()"
   ]
  },
  {
   "cell_type": "code",
   "execution_count": null,
   "metadata": {
    "id": "kN_SMwKLBgbd"
   },
   "outputs": [],
   "source": []
  }
 ],
 "metadata": {
  "colab": {
   "name": "ANN_version2_learning_curve_hyper_parameters_loss_curve.ipynb",
   "provenance": []
  },
  "kernelspec": {
   "display_name": "Python 3",
   "language": "python",
   "name": "python3"
  },
  "language_info": {
   "codemirror_mode": {
    "name": "ipython",
    "version": 3
   },
   "file_extension": ".py",
   "mimetype": "text/x-python",
   "name": "python",
   "nbconvert_exporter": "python",
   "pygments_lexer": "ipython3",
   "version": "3.8.5"
  }
 },
 "nbformat": 4,
 "nbformat_minor": 1
}
