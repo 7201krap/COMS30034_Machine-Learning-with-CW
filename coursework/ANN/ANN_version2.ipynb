{
  "nbformat": 4,
  "nbformat_minor": 0,
  "metadata": {
    "colab": {
      "name": "ANN_version2.ipynb",
      "provenance": [],
      "machine_shape": "hm"
    },
    "kernelspec": {
      "display_name": "Python 3",
      "language": "python",
      "name": "python3"
    },
    "language_info": {
      "codemirror_mode": {
        "name": "ipython",
        "version": 3
      },
      "file_extension": ".py",
      "mimetype": "text/x-python",
      "name": "python",
      "nbconvert_exporter": "python",
      "pygments_lexer": "ipython3",
      "version": "3.8.5"
    },
    "accelerator": "TPU"
  },
  "cells": [
    {
      "cell_type": "code",
      "metadata": {
        "id": "qFThfRwGaPXf"
      },
      "source": [
        "from sklearn.neural_network import MLPClassifier\n",
        "from sklearn.datasets import fetch_openml\n",
        "from sklearn.model_selection import learning_curve, RandomizedSearchCV\n",
        "import matplotlib.pyplot as plt\n",
        "from sklearn.model_selection import train_test_split\n",
        "import numpy as np\n",
        "from sklearn.preprocessing import StandardScaler"
      ],
      "execution_count": 3,
      "outputs": []
    },
    {
      "cell_type": "code",
      "metadata": {
        "id": "TQUpz4USaY7K"
      },
      "source": [
        "X, y = fetch_openml('mnist_784', return_X_y=True)"
      ],
      "execution_count": 4,
      "outputs": []
    },
    {
      "cell_type": "code",
      "metadata": {
        "id": "L_VDX-Ccg4zO"
      },
      "source": [
        "scaler = StandardScaler()\n",
        "scaled_X = scaler.fit_transform(X)"
      ],
      "execution_count": 5,
      "outputs": []
    },
    {
      "cell_type": "code",
      "metadata": {
        "id": "SsJs1F-tacrY"
      },
      "source": [
        "X_train, X_test, y_train, y_test = train_test_split(X, y, test_size=0.2, random_state=42)"
      ],
      "execution_count": 6,
      "outputs": []
    },
    {
      "cell_type": "code",
      "metadata": {
        "id": "X-sh98FUagzh"
      },
      "source": [
        "mlp = MLPClassifier(\n",
        "                    random_state=1,\n",
        "                    hidden_layer_sizes = (256,),\n",
        "                    activation = 'relu',\n",
        "                    solver = 'adam',\n",
        "                    learning_rate_init = 0.0001668,\n",
        "                    alpha = 1.11,\n",
        "                    n_iter_no_change = 25,\n",
        "                    max_iter=500,\n",
        "                    )"
      ],
      "execution_count": null,
      "outputs": []
    },
    {
      "cell_type": "markdown",
      "metadata": {
        "id": "je2Vu0ZfazhT"
      },
      "source": [
        "### Learning Curve"
      ]
    },
    {
      "cell_type": "code",
      "metadata": {
        "id": "eMDy3fsBao3w"
      },
      "source": [
        "train_sizes, train_scores, val_scores = learning_curve(mlp, X_train, y_train, cv=5, scoring='accuracy', n_jobs=1, train_sizes=np.linspace(0.01, 1, 10), verbose=1)"
      ],
      "execution_count": null,
      "outputs": []
    },
    {
      "cell_type": "code",
      "metadata": {
        "id": "F4XX4cDmar3N"
      },
      "source": [
        "train_mean = np.mean(train_scores, axis = 1)\n",
        "train_std = np.std(train_scores, axis=1)\n",
        "val_mean = np.mean(val_scores, axis=1)\n",
        "val_std = np.std(val_scores, axis=1)"
      ],
      "execution_count": null,
      "outputs": []
    },
    {
      "cell_type": "code",
      "metadata": {
        "colab": {
          "base_uri": "https://localhost:8080/",
          "height": 295
        },
        "id": "BNdyxH8yauK3",
        "outputId": "e30341eb-8b54-4285-81d6-cde693a92f54"
      },
      "source": [
        "plt.plot(train_sizes, train_mean, label='Training score')\n",
        "plt.plot(train_sizes, val_mean, label='Cross-validation score')\n",
        "plt.title('Learning curve')\n",
        "plt.xlabel('Training Size')\n",
        "plt.ylabel('Accuracy score')\n",
        "plt.legend(loc='best')\n",
        "plt.show()"
      ],
      "execution_count": null,
      "outputs": [
        {
          "output_type": "display_data",
          "data": {
            "image/png": "[encoded data removed]",
            "text/plain": [
              "<Figure size 432x288 with 1 Axes>"
            ]
          },
          "metadata": {
            "tags": [],
            "needs_background": "light"
          }
        }
      ]
    },
    {
      "cell_type": "markdown",
      "metadata": {
        "id": "DX1ZSEnra7xd"
      },
      "source": [
        "### Try with different learning rate"
      ]
    },
    {
      "cell_type": "markdown",
      "metadata": {
        "id": "7NhokKMTbB5K"
      },
      "source": [
        "#### lr = 0.0001"
      ]
    },
    {
      "cell_type": "code",
      "metadata": {
        "colab": {
          "base_uri": "https://localhost:8080/",
          "height": 313
        },
        "id": "u3lAf7HafpW9",
        "outputId": "9897b80b-6432-4e56-d267-7afb99e7ec49"
      },
      "source": [
        "mlp_lr00001 = MLPClassifier(\n",
        "                    random_state=1,\n",
        "                    hidden_layer_sizes = (256,),\n",
        "                    activation = 'relu',\n",
        "                    solver = 'adam',\n",
        "                    learning_rate_init = 1e-4,\n",
        "                    alpha = 1.11,\n",
        "                    n_iter_no_change = 25,\n",
        "                    max_iter=500,\n",
        "                    )\n",
        "\n",
        "mlp_lr00001.fit(X_train, y_train)\n",
        "\n",
        "fig, ax = plt.subplots(figsize=(10,4))\n",
        "ax.plot(mlp_lr00001.loss_curve_)\n",
        "ax.set_xlabel('Number of iterations')\n",
        "ax.set_ylabel('Loss')\n",
        "plt.show()\n",
        "\n",
        "print(mlp_lr00001.score(X_test, y_test))\n",
        "print(mlp_lr00001.score(X_train, y_train))"
      ],
      "execution_count": 24,
      "outputs": [
        {
          "output_type": "display_data",
          "data": {
            "image/png": "[encoded data removed]",
            "text/plain": [
              "<Figure size 720x288 with 1 Axes>"
            ]
          },
          "metadata": {
            "tags": [],
            "needs_background": "light"
          }
        },
        {
          "output_type": "stream",
          "text": [
            "0.9795714285714285\n",
            "0.9977142857142857\n"
          ],
          "name": "stdout"
        }
      ]
    },
    {
      "cell_type": "markdown",
      "metadata": {
        "id": "MFs0NmXBfykb"
      },
      "source": [
        "#### lr = 0.001"
      ]
    },
    {
      "cell_type": "code",
      "metadata": {
        "colab": {
          "base_uri": "https://localhost:8080/",
          "height": 313
        },
        "id": "DdBh91Mhf0rj",
        "outputId": "e6ea2471-02f5-4abc-f80e-4bf41d70aac5"
      },
      "source": [
        "mlp_lr0001 = MLPClassifier(\n",
        "                    random_state=1,\n",
        "                    hidden_layer_sizes = (256,),\n",
        "                    activation = 'relu',\n",
        "                    solver = 'adam',\n",
        "                    learning_rate_init = 1e-3,\n",
        "                    alpha = 1.11,\n",
        "                    n_iter_no_change = 25,\n",
        "                    max_iter=500,\n",
        "                    )\n",
        "\n",
        "mlp_lr0001.fit(X_train, y_train)\n",
        "\n",
        "fig, ax = plt.subplots(figsize=(10,4))\n",
        "ax.plot(mlp_lr0001.loss_curve_)\n",
        "ax.set_xlabel('Number of iterations')\n",
        "ax.set_ylabel('Loss')\n",
        "plt.show()\n",
        "\n",
        "print(mlp_lr0001.score(X_test, y_test))\n",
        "print(mlp_lr0001.score(X_train, y_train))"
      ],
      "execution_count": 25,
      "outputs": [
        {
          "output_type": "display_data",
          "data": {
            "image/png": "[encoded data removed]",
            "text/plain": [
              "<Figure size 720x288 with 1 Axes>"
            ]
          },
          "metadata": {
            "tags": [],
            "needs_background": "light"
          }
        },
        {
          "output_type": "stream",
          "text": [
            "0.966\n",
            "0.9846428571428572\n"
          ],
          "name": "stdout"
        }
      ]
    },
    {
      "cell_type": "markdown",
      "metadata": {
        "id": "MwKYWYe8bLJC"
      },
      "source": [
        "#### lr = 0.01"
      ]
    },
    {
      "cell_type": "code",
      "metadata": {
        "colab": {
          "base_uri": "https://localhost:8080/",
          "height": 313
        },
        "id": "LhRNKdfZbM7h",
        "outputId": "75988033-4975-454c-d663-37409e4b0fcf"
      },
      "source": [
        "mlp_lr001 = MLPClassifier(\n",
        "                    random_state=1,\n",
        "                    hidden_layer_sizes = (256,),\n",
        "                    activation = 'relu',\n",
        "                    solver = 'adam',\n",
        "                    learning_rate_init = 1e-2,\n",
        "                    alpha = 1.11,\n",
        "                    n_iter_no_change = 25,\n",
        "                    max_iter=500,\n",
        "                    )\n",
        "\n",
        "mlp_lr001.fit(X_train, y_train)\n",
        "\n",
        "fig, ax = plt.subplots(figsize=(10,4))\n",
        "ax.plot(mlp_lr001.loss_curve_)\n",
        "ax.set_xlabel('Number of iterations')\n",
        "ax.set_ylabel('Loss')\n",
        "plt.show()\n",
        "\n",
        "print(mlp_lr001.score(X_test, y_test))\n",
        "print(mlp_lr001.score(X_train, y_train))"
      ],
      "execution_count": 26,
      "outputs": [
        {
          "output_type": "display_data",
          "data": {
            "image/png": "[encoded data removed]",
            "text/plain": [
              "<Figure size 720x288 with 1 Axes>"
            ]
          },
          "metadata": {
            "tags": [],
            "needs_background": "light"
          }
        },
        {
          "output_type": "stream",
          "text": [
            "0.31557142857142856\n",
            "0.30708928571428573\n"
          ],
          "name": "stdout"
        }
      ]
    },
    {
      "cell_type": "markdown",
      "metadata": {
        "id": "MyEdojvYbSuG"
      },
      "source": [
        "#### lr = 0.1"
      ]
    },
    {
      "cell_type": "code",
      "metadata": {
        "colab": {
          "base_uri": "https://localhost:8080/",
          "height": 313
        },
        "id": "UXIo_BanbUek",
        "outputId": "f1437515-4e1a-44bd-e8b8-e888789c1bbc"
      },
      "source": [
        "mlp_lr01 = MLPClassifier(\n",
        "                    random_state=1,\n",
        "                    hidden_layer_sizes = (256,),\n",
        "                    activation = 'relu',\n",
        "                    solver = 'adam',\n",
        "                    learning_rate_init = 1e-1,\n",
        "                    alpha = 1.11,\n",
        "                    n_iter_no_change = 25,\n",
        "                    max_iter=500,\n",
        "                    )\n",
        "\n",
        "mlp_lr01.fit(X_train, y_train)\n",
        "\n",
        "fig, ax = plt.subplots(figsize=(10,4))\n",
        "ax.plot(mlp_lr01.loss_curve_)\n",
        "ax.set_xlabel('Number of iterations')\n",
        "ax.set_ylabel('Loss')\n",
        "plt.show()\n",
        "\n",
        "print(mlp_lr01.score(X_test, y_test))\n",
        "print(mlp_lr01.score(X_train, y_train))"
      ],
      "execution_count": 27,
      "outputs": [
        {
          "output_type": "display_data",
          "data": {
            "image/png": "[encoded data removed]",
            "text/plain": [
              "<Figure size 720x288 with 1 Axes>"
            ]
          },
          "metadata": {
            "tags": [],
            "needs_background": "light"
          }
        },
        {
          "output_type": "stream",
          "text": [
            "0.09692857142857143\n",
            "0.09764285714285714\n"
          ],
          "name": "stdout"
        }
      ]
    },
    {
      "cell_type": "markdown",
      "metadata": {
        "id": "HkBkVBXveSuj"
      },
      "source": [
        "### Try with different alphas"
      ]
    },
    {
      "cell_type": "markdown",
      "metadata": {
        "id": "swkTGkxago0L"
      },
      "source": [
        "#### alpha = 0.00001\n",
        "\n"
      ]
    },
    {
      "cell_type": "code",
      "metadata": {
        "colab": {
          "base_uri": "https://localhost:8080/",
          "height": 313
        },
        "id": "yuV30v97eaJM",
        "outputId": "99f3e20b-7cff-49eb-d7eb-fbcdbbd76858"
      },
      "source": [
        "mlp_alpha000001 = MLPClassifier(\n",
        "                    random_state=1,\n",
        "                    hidden_layer_sizes = (256,),\n",
        "                    activation = 'relu',\n",
        "                    solver = 'adam',\n",
        "                    learning_rate_init = 1e-3,\n",
        "                    alpha = 0.00001,\n",
        "                    n_iter_no_change = 25,\n",
        "                    max_iter=500,\n",
        "                    )\n",
        "\n",
        "mlp_alpha000001.fit(X_train, y_train)\n",
        "\n",
        "fig, ax = plt.subplots(figsize=(10,4))\n",
        "ax.plot(mlp_alpha000001.loss_curve_)\n",
        "ax.set_xlabel('Number of iterations')\n",
        "ax.set_ylabel('Loss')\n",
        "plt.show()\n",
        "\n",
        "print(mlp_alpha000001.score(X_test, y_test))\n",
        "print(mlp_alpha000001.score(X_train, y_train))"
      ],
      "execution_count": 11,
      "outputs": [
        {
          "output_type": "display_data",
          "data": {
            "image/png": "[encoded data removed]",
            "text/plain": [
              "<Figure size 720x288 with 1 Axes>"
            ]
          },
          "metadata": {
            "tags": [],
            "needs_background": "light"
          }
        },
        {
          "output_type": "stream",
          "text": [
            "0.9753571428571428\n",
            "0.9982678571428572\n"
          ],
          "name": "stdout"
        }
      ]
    },
    {
      "cell_type": "markdown",
      "metadata": {
        "id": "SRkt5d9lguL-"
      },
      "source": [
        "#### alpha = 0.0001"
      ]
    },
    {
      "cell_type": "code",
      "metadata": {
        "colab": {
          "base_uri": "https://localhost:8080/",
          "height": 317
        },
        "id": "ouH6PSZxe424",
        "outputId": "adecfc0c-64db-4bdc-8044-da5a7f3f09e1"
      },
      "source": [
        "mlp_alpha00001 = MLPClassifier(\n",
        "                    random_state=1,\n",
        "                    hidden_layer_sizes = (256,),\n",
        "                    activation = 'relu',\n",
        "                    solver = 'adam',\n",
        "                    learning_rate_init = 1e-3,\n",
        "                    alpha = 0.0001,\n",
        "                    n_iter_no_change = 25,\n",
        "                    max_iter=500,\n",
        "                    )\n",
        "\n",
        "mlp_alpha00001.fit(X_train, y_train)\n",
        "\n",
        "fig, ax = plt.subplots(figsize=(10,4))\n",
        "ax.plot(mlp_alpha00001.loss_curve_)\n",
        "ax.set_xlabel('Number of iterations')\n",
        "ax.set_ylabel('Loss')\n",
        "plt.show()\n",
        "\n",
        "print(mlp_alpha00001.score(X_test, y_test))\n",
        "print(mlp_alpha00001.score(X_train, y_train))"
      ],
      "execution_count": 12,
      "outputs": [
        {
          "output_type": "display_data",
          "data": {
            "image/png": "[encoded data removed]",
            "text/plain": [
              "<Figure size 720x288 with 1 Axes>"
            ]
          },
          "metadata": {
            "tags": [],
            "needs_background": "light"
          }
        },
        {
          "output_type": "stream",
          "text": [
            "0.9771428571428571\n",
            "0.99875\n"
          ],
          "name": "stdout"
        }
      ]
    },
    {
      "cell_type": "markdown",
      "metadata": {
        "id": "ElKu7Roigy3Z"
      },
      "source": [
        "#### alpha = 0.001"
      ]
    },
    {
      "cell_type": "code",
      "metadata": {
        "colab": {
          "base_uri": "https://localhost:8080/",
          "height": 317
        },
        "id": "WkIo7MQoe9Kf",
        "outputId": "ac2fe40f-8e34-41ec-c8ba-ebab4e3c76fb"
      },
      "source": [
        "mlp_alpha0001 = MLPClassifier(\n",
        "                    random_state=1,\n",
        "                    hidden_layer_sizes = (256,),\n",
        "                    activation = 'relu',\n",
        "                    solver = 'adam',\n",
        "                    learning_rate_init = 1e-3,\n",
        "                    alpha = 0.001,\n",
        "                    n_iter_no_change = 25,\n",
        "                    max_iter=500,\n",
        "                    )\n",
        "\n",
        "mlp_alpha0001.fit(X_train, y_train)\n",
        "\n",
        "fig, ax = plt.subplots(figsize=(10,4))\n",
        "ax.plot(mlp_alpha0001.loss_curve_)\n",
        "ax.set_xlabel('Number of iterations')\n",
        "ax.set_ylabel('Loss')\n",
        "plt.show()\n",
        "\n",
        "print(mlp_alpha0001.score(X_test, y_test))\n",
        "print(mlp_alpha0001.score(X_train, y_train))"
      ],
      "execution_count": 13,
      "outputs": [
        {
          "output_type": "display_data",
          "data": {
            "image/png": "[encoded data removed]",
            "text/plain": [
              "<Figure size 720x288 with 1 Axes>"
            ]
          },
          "metadata": {
            "tags": [],
            "needs_background": "light"
          }
        },
        {
          "output_type": "stream",
          "text": [
            "0.977\n",
            "0.9986964285714286\n"
          ],
          "name": "stdout"
        }
      ]
    },
    {
      "cell_type": "markdown",
      "metadata": {
        "id": "wggAp66Eg3mT"
      },
      "source": [
        "#### alpha = 0.01"
      ]
    },
    {
      "cell_type": "code",
      "metadata": {
        "colab": {
          "base_uri": "https://localhost:8080/",
          "height": 317
        },
        "id": "NNLziRTGfLDC",
        "outputId": "a70da5fd-8226-459f-aab2-5681c566714a"
      },
      "source": [
        "mlp_alpha001 = MLPClassifier(\n",
        "                    random_state=1,\n",
        "                    hidden_layer_sizes = (256,),\n",
        "                    activation = 'relu',\n",
        "                    solver = 'adam',\n",
        "                    learning_rate_init = 1e-3,\n",
        "                    alpha = 0.01,\n",
        "                    n_iter_no_change = 25,\n",
        "                    max_iter=500,\n",
        "                    )\n",
        "\n",
        "mlp_alpha001.fit(X_train, y_train)\n",
        "\n",
        "fig, ax = plt.subplots(figsize=(10,4))\n",
        "ax.plot(mlp_alpha001.loss_curve_)\n",
        "ax.set_xlabel('Number of iterations')\n",
        "ax.set_ylabel('Loss')\n",
        "plt.show()\n",
        "\n",
        "print(mlp_alpha001.score(X_test, y_test))\n",
        "print(mlp_alpha001.score(X_train, y_train))"
      ],
      "execution_count": 14,
      "outputs": [
        {
          "output_type": "display_data",
          "data": {
            "image/png": "[encoded data removed]",
            "text/plain": [
              "<Figure size 720x288 with 1 Axes>"
            ]
          },
          "metadata": {
            "tags": [],
            "needs_background": "light"
          }
        },
        {
          "output_type": "stream",
          "text": [
            "0.9756428571428571\n",
            "0.9977142857142857\n"
          ],
          "name": "stdout"
        }
      ]
    },
    {
      "cell_type": "markdown",
      "metadata": {
        "id": "DdDd6kbAg7-q"
      },
      "source": [
        "#### alpha = 0.1"
      ]
    },
    {
      "cell_type": "code",
      "metadata": {
        "colab": {
          "base_uri": "https://localhost:8080/",
          "height": 314
        },
        "id": "7Qmc8qTKfOtj",
        "outputId": "5b6f69db-4547-48d6-f4d4-5252e4d4572c"
      },
      "source": [
        "mlp_alpha01 = MLPClassifier(\n",
        "                    random_state=1,\n",
        "                    hidden_layer_sizes = (256,),\n",
        "                    activation = 'relu',\n",
        "                    solver = 'adam',\n",
        "                    learning_rate_init = 1e-3,\n",
        "                    alpha = 0.1,\n",
        "                    n_iter_no_change = 25,\n",
        "                    max_iter=500,\n",
        "                    )\n",
        "\n",
        "mlp_alpha01.fit(X_train, y_train)\n",
        "\n",
        "fig, ax = plt.subplots(figsize=(10,4))\n",
        "ax.plot(mlp_alpha01.loss_curve_)\n",
        "ax.set_xlabel('Number of iterations')\n",
        "ax.set_ylabel('Loss')\n",
        "plt.show()\n",
        "\n",
        "print(mlp_alpha01.score(X_test, y_test))\n",
        "print(mlp_alpha01.score(X_train, y_train))"
      ],
      "execution_count": 15,
      "outputs": [
        {
          "output_type": "display_data",
          "data": {
            "image/png": "[encoded data removed]",
            "text/plain": [
              "<Figure size 720x288 with 1 Axes>"
            ]
          },
          "metadata": {
            "tags": [],
            "needs_background": "light"
          }
        },
        {
          "output_type": "stream",
          "text": [
            "0.9712857142857143\n",
            "0.9960714285714286\n"
          ],
          "name": "stdout"
        }
      ]
    },
    {
      "cell_type": "markdown",
      "metadata": {
        "id": "L93Ly5tvhAOx"
      },
      "source": [
        "#### alpha = 1"
      ]
    },
    {
      "cell_type": "code",
      "metadata": {
        "colab": {
          "base_uri": "https://localhost:8080/",
          "height": 313
        },
        "id": "5T03TzpsfSPs",
        "outputId": "cc0ce9b0-b22f-4b03-f62c-74563401ae92"
      },
      "source": [
        "mlp_alpha1 = MLPClassifier(\n",
        "                    random_state=1,\n",
        "                    hidden_layer_sizes = (256,),\n",
        "                    activation = 'relu',\n",
        "                    solver = 'adam',\n",
        "                    learning_rate_init = 1e-3,\n",
        "                    alpha = 1,\n",
        "                    n_iter_no_change = 25,\n",
        "                    max_iter=500,\n",
        "                    )\n",
        "\n",
        "mlp_alpha1.fit(X_train, y_train)\n",
        "\n",
        "fig, ax = plt.subplots(figsize=(10,4))\n",
        "ax.plot(mlp_alpha1.loss_curve_)\n",
        "ax.set_xlabel('Number of iterations')\n",
        "ax.set_ylabel('Loss')\n",
        "plt.show()\n",
        "\n",
        "print(mlp_alpha1.score(X_test, y_test))\n",
        "print(mlp_alpha1.score(X_train, y_train))"
      ],
      "execution_count": 16,
      "outputs": [
        {
          "output_type": "display_data",
          "data": {
            "image/png": "[encoded data removed]",
            "text/plain": [
              "<Figure size 720x288 with 1 Axes>"
            ]
          },
          "metadata": {
            "tags": [],
            "needs_background": "light"
          }
        },
        {
          "output_type": "stream",
          "text": [
            "0.9639285714285715\n",
            "0.9835178571428571\n"
          ],
          "name": "stdout"
        }
      ]
    },
    {
      "cell_type": "code",
      "metadata": {
        "id": "0t_c-_K3XvfF"
      },
      "source": [
        ""
      ],
      "execution_count": 16,
      "outputs": []
    },
    {
      "cell_type": "markdown",
      "metadata": {
        "id": "VyktGXFdbkc0"
      },
      "source": [
        "### Find Best Hyper-parameters : alpha (regularization) and learning rate"
      ]
    },
    {
      "cell_type": "code",
      "metadata": {
        "colab": {
          "base_uri": "https://localhost:8080/"
        },
        "id": "Sd0oo3QbbxE7",
        "outputId": "d1ca20f2-7339-4198-d1b8-ca5a6f35bdc7"
      },
      "source": [
        "alphas = np.linspace(0, 10, 10)\n",
        "learning_rates = np.logspace(-4, -2, 10)\n",
        "parameters = {'learning_rate_init':learning_rates, 'alpha':alphas}\n",
        "\n",
        "nn = MLPClassifier(hidden_layer_sizes=(256,),\n",
        "                    activation='relu',\n",
        "                    solver='adam',\n",
        "                    max_iter=500,\n",
        "                    n_iter_no_change=25,\n",
        "                    random_state=1)\n",
        "\n",
        "clf = RandomizedSearchCV(nn, parameters, scoring='accuracy', n_iter=10, cv=10, verbose=2, n_jobs=10)\n",
        "\n",
        "clf.fit(X_train, y_train)\n",
        "clf.best_params_\n"
      ],
      "execution_count": 18,
      "outputs": [
        {
          "output_type": "stream",
          "text": [
            "Fitting 10 folds for each of 10 candidates, totalling 100 fits\n"
          ],
          "name": "stdout"
        },
        {
          "output_type": "stream",
          "text": [
            "[Parallel(n_jobs=10)]: Using backend LokyBackend with 10 concurrent workers.\n",
            "[Parallel(n_jobs=10)]: Done  21 tasks      | elapsed: 28.6min\n",
            "[Parallel(n_jobs=10)]: Done 100 out of 100 | elapsed: 82.1min finished\n"
          ],
          "name": "stderr"
        },
        {
          "output_type": "execute_result",
          "data": {
            "text/plain": [
              "{'alpha': 1.1111111111111112, 'learning_rate_init': 0.0001668100537200059}"
            ]
          },
          "metadata": {
            "tags": []
          },
          "execution_count": 18
        }
      ]
    },
    {
      "cell_type": "code",
      "metadata": {
        "id": "boN7SeMv3rXI",
        "colab": {
          "base_uri": "https://localhost:8080/"
        },
        "outputId": "0358cec8-67d8-4ca6-cee0-1d353e394d5e"
      },
      "source": [
        "clf.best_score_"
      ],
      "execution_count": 19,
      "outputs": [
        {
          "output_type": "execute_result",
          "data": {
            "text/plain": [
              "0.9816071428571428"
            ]
          },
          "metadata": {
            "tags": []
          },
          "execution_count": 19
        }
      ]
    },
    {
      "cell_type": "code",
      "metadata": {
        "id": "Jomse6c9724h"
      },
      "source": [
        "mlp_ = MLPClassifier(\n",
        "                    random_state=1,\n",
        "                    hidden_layer_sizes = (256,),\n",
        "                    activation = 'relu',\n",
        "                    solver = 'adam',\n",
        "                    learning_rate_init = 0.0001668,\n",
        "                    alpha = 1.11,\n",
        "                    n_iter_no_change = 25,\n",
        "                    max_iter=500,\n",
        "                    )"
      ],
      "execution_count": 20,
      "outputs": []
    },
    {
      "cell_type": "code",
      "metadata": {
        "colab": {
          "base_uri": "https://localhost:8080/"
        },
        "id": "VxLGSaim8CI4",
        "outputId": "c2f260be-cabb-4a93-d294-543ebaec34df"
      },
      "source": [
        "mlp_.fit(X_train, y_train)"
      ],
      "execution_count": 21,
      "outputs": [
        {
          "output_type": "execute_result",
          "data": {
            "text/plain": [
              "MLPClassifier(activation='relu', alpha=1.11, batch_size='auto', beta_1=0.9,\n",
              "              beta_2=0.999, early_stopping=False, epsilon=1e-08,\n",
              "              hidden_layer_sizes=(256,), learning_rate='constant',\n",
              "              learning_rate_init=0.0001668, max_fun=15000, max_iter=500,\n",
              "              momentum=0.9, n_iter_no_change=25, nesterovs_momentum=True,\n",
              "              power_t=0.5, random_state=1, shuffle=True, solver='adam',\n",
              "              tol=0.0001, validation_fraction=0.1, verbose=False,\n",
              "              warm_start=False)"
            ]
          },
          "metadata": {
            "tags": []
          },
          "execution_count": 21
        }
      ]
    },
    {
      "cell_type": "code",
      "metadata": {
        "colab": {
          "base_uri": "https://localhost:8080/"
        },
        "id": "E5Uq7Ydl85V6",
        "outputId": "21861e8c-a962-470e-bdc1-e7db362603c3"
      },
      "source": [
        "mlp_.score(X_train, y_train)"
      ],
      "execution_count": 22,
      "outputs": [
        {
          "output_type": "execute_result",
          "data": {
            "text/plain": [
              "0.9959107142857143"
            ]
          },
          "metadata": {
            "tags": []
          },
          "execution_count": 22
        }
      ]
    },
    {
      "cell_type": "code",
      "metadata": {
        "colab": {
          "base_uri": "https://localhost:8080/"
        },
        "id": "sGbYB7Nf883B",
        "outputId": "8187bb77-1308-4913-a105-83fe8b258bf3"
      },
      "source": [
        "mlp_.score(X_test, y_test)"
      ],
      "execution_count": 23,
      "outputs": [
        {
          "output_type": "execute_result",
          "data": {
            "text/plain": [
              "0.9761428571428571"
            ]
          },
          "metadata": {
            "tags": []
          },
          "execution_count": 23
        }
      ]
    },
    {
      "cell_type": "markdown",
      "metadata": {
        "id": "hg5AqiQyFsu-"
      },
      "source": [
        "### Loss Curve"
      ]
    },
    {
      "cell_type": "code",
      "metadata": {
        "id": "hlXeRQhtFt4n"
      },
      "source": [
        "mlp_loss_curve = MLPClassifier(\n",
        "                    random_state=1,\n",
        "                    hidden_layer_sizes = (256,),\n",
        "                    activation = 'relu',\n",
        "                    solver = 'adam',\n",
        "                    learning_rate_init = 0.0001668,\n",
        "                    alpha = 1.11,\n",
        "                    n_iter_no_change = 25,\n",
        "                    max_iter=1000,\n",
        "                    )"
      ],
      "execution_count": null,
      "outputs": []
    },
    {
      "cell_type": "code",
      "metadata": {
        "colab": {
          "base_uri": "https://localhost:8080/",
          "height": 279
        },
        "id": "ZKExcFSZVv02",
        "outputId": "e8fc0a9b-f262-4725-b124-7d0d5003a7c5"
      },
      "source": [
        "fig, ax = plt.subplots(figsize=(10,4))\n",
        "mlp_loss_curve.fit(X_train, y_train)\n",
        "ax.plot(mlp_loss_curve.loss_curve_)\n",
        "mlp_loss_curve.fit(X_test, y_test)\n",
        "ax.plot(mlp_loss_curve.loss_curve_)\n",
        "ax.set_xlabel('Number of iterations')\n",
        "ax.set_ylabel('Loss')\n",
        "plt.show()"
      ],
      "execution_count": null,
      "outputs": [
        {
          "output_type": "display_data",
          "data": {
            "image/png": "[encoded data removed]",
            "text/plain": [
              "<Figure size 720x288 with 1 Axes>"
            ]
          },
          "metadata": {
            "tags": [],
            "needs_background": "light"
          }
        }
      ]
    },
    {
      "cell_type": "code",
      "metadata": {
        "id": "kN_SMwKLBgbd"
      },
      "source": [
        ""
      ],
      "execution_count": null,
      "outputs": []
    }
  ]
}