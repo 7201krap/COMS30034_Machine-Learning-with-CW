{
 "cells": [
  {
   "cell_type": "code",
   "execution_count": 7,
   "metadata": {},
   "outputs": [],
   "source": [
    "import numpy as np \n",
    "import pandas as pd \n",
    "import pprint \n",
    "import matplotlib.pyplot as plt \n",
    "import pylab as pl \n",
    "from sklearn.datasets import load_iris\n",
    "%matplotlib inline \n",
    "%precision 3 \n",
    "np.set_printoptions(precision = 3)"
   ]
  },
  {
   "cell_type": "markdown",
   "metadata": {},
   "source": [
    "### PCA 하는법 \n",
    "1. X를 다 standardized 해준다. fit_transform 으로 하면 됨.\n",
    "2. X_std 의 covariance matrix 를 구해서 eigenvalue랑 그에 대응되는 eigenvector를 구해준다.\n",
    "3. eigenvalue 를 분석해서 어떤 것이 유의미한 데이터인지 정한다.\n",
    "4. 유의미한 eigenvalue 에 해당하는 eigenvector 로 행렬을 만든다.\n",
    "\n",
    "ex) 150 X 4 행렬에서 (150 samples and 4 features) 유의미한 eigenvector가 2개 존재 한다면, 그 변환 행렬(W)의 shape 은 4 (원래 feature 의 갯수) X 2 (내가 고른 eigenvalue 의 갯수)\n",
    "\n",
    "5. Y = X_std.dot(W) X_std 와 변환 행렬(W)을 곱하여 만들어진 행렬 Y 는 PCA 적용이 완료됨."
   ]
  },
  {
   "cell_type": "code",
   "execution_count": 8,
   "metadata": {},
   "outputs": [],
   "source": [
    "iris = load_iris()"
   ]
  },
  {
   "cell_type": "code",
   "execution_count": 11,
   "metadata": {},
   "outputs": [
    {
     "data": {
      "text/html": [
       "<div>\n",
       "<style scoped>\n",
       "    .dataframe tbody tr th:only-of-type {\n",
       "        vertical-align: middle;\n",
       "    }\n",
       "\n",
       "    .dataframe tbody tr th {\n",
       "        vertical-align: top;\n",
       "    }\n",
       "\n",
       "    .dataframe thead tr th {\n",
       "        text-align: left;\n",
       "    }\n",
       "</style>\n",
       "<table border=\"1\" class=\"dataframe\">\n",
       "  <thead>\n",
       "    <tr>\n",
       "      <th></th>\n",
       "      <th>sepal length (cm)</th>\n",
       "      <th>sepal width (cm)</th>\n",
       "      <th>petal length (cm)</th>\n",
       "      <th>petal width (cm)</th>\n",
       "    </tr>\n",
       "  </thead>\n",
       "  <tbody>\n",
       "    <tr>\n",
       "      <th>0</th>\n",
       "      <td>5.1</td>\n",
       "      <td>3.5</td>\n",
       "      <td>1.4</td>\n",
       "      <td>0.2</td>\n",
       "    </tr>\n",
       "    <tr>\n",
       "      <th>1</th>\n",
       "      <td>4.9</td>\n",
       "      <td>3.0</td>\n",
       "      <td>1.4</td>\n",
       "      <td>0.2</td>\n",
       "    </tr>\n",
       "    <tr>\n",
       "      <th>2</th>\n",
       "      <td>4.7</td>\n",
       "      <td>3.2</td>\n",
       "      <td>1.3</td>\n",
       "      <td>0.2</td>\n",
       "    </tr>\n",
       "    <tr>\n",
       "      <th>3</th>\n",
       "      <td>4.6</td>\n",
       "      <td>3.1</td>\n",
       "      <td>1.5</td>\n",
       "      <td>0.2</td>\n",
       "    </tr>\n",
       "    <tr>\n",
       "      <th>4</th>\n",
       "      <td>5.0</td>\n",
       "      <td>3.6</td>\n",
       "      <td>1.4</td>\n",
       "      <td>0.2</td>\n",
       "    </tr>\n",
       "  </tbody>\n",
       "</table>\n",
       "</div>"
      ],
      "text/plain": [
       "  sepal length (cm) sepal width (cm) petal length (cm) petal width (cm)\n",
       "0               5.1              3.5               1.4              0.2\n",
       "1               4.9              3.0               1.4              0.2\n",
       "2               4.7              3.2               1.3              0.2\n",
       "3               4.6              3.1               1.5              0.2\n",
       "4               5.0              3.6               1.4              0.2"
      ]
     },
     "execution_count": 11,
     "metadata": {},
     "output_type": "execute_result"
    }
   ],
   "source": [
    "iris_df = pd.DataFrame(iris.data, columns=[iris.feature_names])\n",
    "iris_df.head()"
   ]
  },
  {
   "cell_type": "code",
   "execution_count": 12,
   "metadata": {},
   "outputs": [],
   "source": [
    "X = iris.data"
   ]
  },
  {
   "cell_type": "code",
   "execution_count": 14,
   "metadata": {},
   "outputs": [
    {
     "data": {
      "text/plain": [
       "(150, 4)"
      ]
     },
     "execution_count": 14,
     "metadata": {},
     "output_type": "execute_result"
    }
   ],
   "source": [
    "X.shape"
   ]
  },
  {
   "cell_type": "code",
   "execution_count": 19,
   "metadata": {},
   "outputs": [
    {
     "name": "stdout",
     "output_type": "stream",
     "text": [
      "[[-0.901  1.019 -1.34  -1.315]\n",
      " [-1.143 -0.132 -1.34  -1.315]\n",
      " [-1.385  0.328 -1.397 -1.315]\n",
      " [-1.507  0.098 -1.283 -1.315]\n",
      " [-1.022  1.249 -1.34  -1.315]]\n",
      "\n",
      "X_std.shape -->\n",
      " (150, 4)\n"
     ]
    }
   ],
   "source": [
    "from sklearn.preprocessing import StandardScaler \n",
    "X_std = StandardScaler().fit_transform(X)\n",
    "print(X_std[:5])\n",
    "print(\"\\nX_std.shape -->\\n\", X_std.shape)"
   ]
  },
  {
   "cell_type": "code",
   "execution_count": 22,
   "metadata": {},
   "outputs": [],
   "source": [
    "# np.cov 를 통하여 covariance matrix 를 구할때는, \n",
    "# X 가 (number of samples) * (dimension) 으로 구성 되어 있을때, \n",
    "# for example : M by N, M sampels and N features \n",
    "# N by N covariance matrix 를 찾을때는 항상 transpose 를 해주어야 한다. \n",
    "X_covariance_matrix = np.cov(X_std.T)"
   ]
  },
  {
   "cell_type": "code",
   "execution_count": 100,
   "metadata": {},
   "outputs": [
    {
     "name": "stdout",
     "output_type": "stream",
     "text": [
      "\n",
      " eigen values  --> \n",
      " [2.938 0.92  0.148 0.021]\n",
      "\n",
      " eigen vectors --> \n",
      " [[ 0.521 -0.377 -0.72   0.261]\n",
      " [-0.269 -0.923  0.244 -0.124]\n",
      " [ 0.58  -0.024  0.142 -0.801]\n",
      " [ 0.565 -0.067  0.634  0.524]]\n"
     ]
    }
   ],
   "source": [
    "# covarance matri 의 eigenvector 와 eigenvalue 를 찾아준다.\n",
    "eig_vals, eig_vecs = np.linalg.eig(X_covariance_matrix)\n",
    "print(\"\\n eigen values  --> \\n\", eig_vals)\n",
    "print(\"\\n eigen vectors --> \\n\", eig_vecs)"
   ]
  },
  {
   "cell_type": "code",
   "execution_count": 101,
   "metadata": {},
   "outputs": [
    {
     "data": {
      "text/plain": [
       "[(2.938085050199995, array([ 0.521, -0.269,  0.58 ,  0.565])),\n",
       " (0.9201649041624864, array([-0.377, -0.923, -0.024, -0.067])),\n",
       " (0.1477418210449475, array([-0.72 ,  0.244,  0.142,  0.634])),\n",
       " (0.020853862176462696, array([ 0.261, -0.124, -0.801,  0.524]))]"
      ]
     },
     "execution_count": 101,
     "metadata": {},
     "output_type": "execute_result"
    }
   ],
   "source": [
    "# make a list of eigen-vals and eigen-vecs tuples \n",
    "eig_pairs = [( np.abs(eig_vals[i]), eig_vecs[:, i] ) for i in range(len(eig_vals))]\n",
    "\n",
    "# sort the tuples from high to low \n",
    "eig_pairs.sort(key=lambda x: x[0], reverse=True)\n",
    "\n",
    "eig_pairs"
   ]
  },
  {
   "cell_type": "code",
   "execution_count": 102,
   "metadata": {},
   "outputs": [],
   "source": [
    "tot = sum(eig_vals)\n",
    "var_exp = [ (i/tot)*100 for i in sorted(eig_vals, reverse=True)]\n",
    "cum_var_exp = np.cumsum(var_exp)"
   ]
  },
  {
   "cell_type": "code",
   "execution_count": 103,
   "metadata": {},
   "outputs": [
    {
     "data": {
      "text/plain": [
       "[72.96244541329989, 22.850761786701753, 3.668921889282865, 0.5178709107154905]"
      ]
     },
     "execution_count": 103,
     "metadata": {},
     "output_type": "execute_result"
    }
   ],
   "source": [
    "var_exp"
   ]
  },
  {
   "cell_type": "code",
   "execution_count": 104,
   "metadata": {},
   "outputs": [
    {
     "data": {
      "text/plain": [
       "array([ 72.962,  95.813,  99.482, 100.   ])"
      ]
     },
     "execution_count": 104,
     "metadata": {},
     "output_type": "execute_result"
    }
   ],
   "source": [
    "cum_var_exp"
   ]
  },
  {
   "cell_type": "code",
   "execution_count": 109,
   "metadata": {},
   "outputs": [
    {
     "data": {
      "text/plain": [
       "array([[ 0.521, -0.269,  0.58 ,  0.565],\n",
       "       [-0.377, -0.923, -0.024, -0.067],\n",
       "       [-0.72 ,  0.244,  0.142,  0.634],\n",
       "       [ 0.261, -0.124, -0.801,  0.524]])"
      ]
     },
     "execution_count": 109,
     "metadata": {},
     "output_type": "execute_result"
    }
   ],
   "source": [
    "eig_vecs.T"
   ]
  },
  {
   "cell_type": "code",
   "execution_count": 115,
   "metadata": {},
   "outputs": [
    {
     "name": "stdout",
     "output_type": "stream",
     "text": [
      "[[ 0.521 -0.377]\n",
      " [-0.269 -0.923]\n",
      " [ 0.58  -0.024]\n",
      " [ 0.565 -0.067]]\n"
     ]
    }
   ],
   "source": [
    "# make a matrix for projection \n",
    "W = np.vstack((eig_vecs.T[0], eig_vecs.T[1])).T\n",
    "print(W)"
   ]
  },
  {
   "cell_type": "code",
   "execution_count": 116,
   "metadata": {},
   "outputs": [],
   "source": [
    "Y = X_std.dot(W) "
   ]
  },
  {
   "cell_type": "code",
   "execution_count": 117,
   "metadata": {},
   "outputs": [
    {
     "data": {
      "text/plain": [
       "<Figure size 432x288 with 0 Axes>"
      ]
     },
     "metadata": {},
     "output_type": "display_data"
    }
   ],
   "source": [
    "pl.figure()\n",
    "target_names = iris.target_names \n",
    "y = iris.target"
   ]
  },
  {
   "cell_type": "code",
   "execution_count": 136,
   "metadata": {},
   "outputs": [
    {
     "data": {
      "text/plain": [
       "array([0, 0, 0, 0, 0, 0, 0, 0, 0, 0, 0, 0, 0, 0, 0, 0, 0, 0, 0, 0, 0, 0,\n",
       "       0, 0, 0, 0, 0, 0, 0, 0, 0, 0, 0, 0, 0, 0, 0, 0, 0, 0, 0, 0, 0, 0,\n",
       "       0, 0, 0, 0, 0, 0, 1, 1, 1, 1, 1, 1, 1, 1, 1, 1, 1, 1, 1, 1, 1, 1,\n",
       "       1, 1, 1, 1, 1, 1, 1, 1, 1, 1, 1, 1, 1, 1, 1, 1, 1, 1, 1, 1, 1, 1,\n",
       "       1, 1, 1, 1, 1, 1, 1, 1, 1, 1, 1, 1, 2, 2, 2, 2, 2, 2, 2, 2, 2, 2,\n",
       "       2, 2, 2, 2, 2, 2, 2, 2, 2, 2, 2, 2, 2, 2, 2, 2, 2, 2, 2, 2, 2, 2,\n",
       "       2, 2, 2, 2, 2, 2, 2, 2, 2, 2, 2, 2, 2, 2, 2, 2, 2, 2])"
      ]
     },
     "execution_count": 136,
     "metadata": {},
     "output_type": "execute_result"
    }
   ],
   "source": [
    "y"
   ]
  },
  {
   "cell_type": "code",
   "execution_count": 135,
   "metadata": {},
   "outputs": [
    {
     "data": {
      "text/plain": [
       "array([-2.265, -2.081, -2.364, -2.299, -2.39 , -2.076, -2.444, -2.233,\n",
       "       -2.335, -2.184, -2.166, -2.326, -2.218, -2.633, -2.199, -2.262,\n",
       "       -2.208, -2.19 , -1.899, -2.343, -1.914, -2.207, -2.774, -1.819,\n",
       "       -2.227, -1.952, -2.051, -2.169, -2.14 , -2.265, -2.14 , -1.832,\n",
       "       -2.615, -2.446, -2.11 , -2.208, -2.045, -2.527, -2.43 , -2.17 ,\n",
       "       -2.286, -1.858, -2.554, -1.964, -2.137, -2.07 , -2.385, -2.394,\n",
       "       -2.229, -2.204])"
      ]
     },
     "execution_count": 135,
     "metadata": {},
     "output_type": "execute_result"
    }
   ],
   "source": [
    "Y[y==0, 0]"
   ]
  },
  {
   "cell_type": "code",
   "execution_count": 131,
   "metadata": {
    "scrolled": true
   },
   "outputs": [
    {
     "data": {
      "text/plain": [
       "array([[-2.265, -0.48 ],\n",
       "       [-2.081,  0.674],\n",
       "       [-2.364,  0.342],\n",
       "       [-2.299,  0.597],\n",
       "       [-2.39 , -0.647],\n",
       "       [-2.076, -1.489],\n",
       "       [-2.444, -0.048],\n",
       "       [-2.233, -0.223],\n",
       "       [-2.335,  1.115],\n",
       "       [-2.184,  0.469],\n",
       "       [-2.166, -1.044],\n",
       "       [-2.326, -0.133],\n",
       "       [-2.218,  0.729],\n",
       "       [-2.633,  0.962],\n",
       "       [-2.199, -1.86 ],\n",
       "       [-2.262, -2.686],\n",
       "       [-2.208, -1.484],\n",
       "       [-2.19 , -0.489],\n",
       "       [-1.899, -1.405],\n",
       "       [-2.343, -1.128],\n",
       "       [-1.914, -0.409],\n",
       "       [-2.207, -0.924],\n",
       "       [-2.774, -0.458],\n",
       "       [-1.819, -0.086],\n",
       "       [-2.227, -0.137],\n",
       "       [-1.952,  0.626],\n",
       "       [-2.051, -0.242],\n",
       "       [-2.169, -0.527],\n",
       "       [-2.14 , -0.313],\n",
       "       [-2.265,  0.338],\n",
       "       [-2.14 ,  0.505],\n",
       "       [-1.832, -0.424],\n",
       "       [-2.615, -1.794],\n",
       "       [-2.446, -2.151],\n",
       "       [-2.11 ,  0.46 ],\n",
       "       [-2.208,  0.206],\n",
       "       [-2.045, -0.662],\n",
       "       [-2.527, -0.592],\n",
       "       [-2.43 ,  0.904],\n",
       "       [-2.17 , -0.269],\n",
       "       [-2.286, -0.442],\n",
       "       [-1.858,  2.337],\n",
       "       [-2.554,  0.479],\n",
       "       [-1.964, -0.472],\n",
       "       [-2.137, -1.142],\n",
       "       [-2.07 ,  0.711],\n",
       "       [-2.385, -1.12 ],\n",
       "       [-2.394,  0.386],\n",
       "       [-2.229, -0.998],\n",
       "       [-2.204, -0.009],\n",
       "       [ 1.102, -0.863],\n",
       "       [ 0.731, -0.595],\n",
       "       [ 1.241, -0.616],\n",
       "       [ 0.407,  1.754],\n",
       "       [ 1.075,  0.208],\n",
       "       [ 0.389,  0.593],\n",
       "       [ 0.747, -0.773],\n",
       "       [-0.487,  1.852],\n",
       "       [ 0.928, -0.032],\n",
       "       [ 0.011,  1.034],\n",
       "       [-0.11 ,  2.654],\n",
       "       [ 0.441,  0.063],\n",
       "       [ 0.562,  1.765],\n",
       "       [ 0.72 ,  0.186],\n",
       "       [-0.033,  0.439],\n",
       "       [ 0.875, -0.509],\n",
       "       [ 0.35 ,  0.196],\n",
       "       [ 0.159,  0.792],\n",
       "       [ 1.225,  1.622],\n",
       "       [ 0.165,  1.303],\n",
       "       [ 0.738, -0.397],\n",
       "       [ 0.476,  0.417],\n",
       "       [ 1.234,  0.933],\n",
       "       [ 0.633,  0.416],\n",
       "       [ 0.703,  0.063],\n",
       "       [ 0.874, -0.251],\n",
       "       [ 1.257,  0.077],\n",
       "       [ 1.358, -0.331],\n",
       "       [ 0.665,  0.226],\n",
       "       [-0.04 ,  1.059],\n",
       "       [ 0.131,  1.562],\n",
       "       [ 0.023,  1.572],\n",
       "       [ 0.242,  0.777],\n",
       "       [ 1.061,  0.634],\n",
       "       [ 0.224,  0.288],\n",
       "       [ 0.429, -0.846],\n",
       "       [ 1.049, -0.522],\n",
       "       [ 1.045,  1.383],\n",
       "       [ 0.07 ,  0.22 ],\n",
       "       [ 0.283,  1.329],\n",
       "       [ 0.279,  1.12 ],\n",
       "       [ 0.625, -0.025],\n",
       "       [ 0.337,  0.988],\n",
       "       [-0.362,  2.019],\n",
       "       [ 0.289,  0.856],\n",
       "       [ 0.091,  0.181],\n",
       "       [ 0.228,  0.385],\n",
       "       [ 0.576,  0.155],\n",
       "       [-0.448,  1.544],\n",
       "       [ 0.257,  0.599],\n",
       "       [ 1.845, -0.87 ],\n",
       "       [ 1.158,  0.699],\n",
       "       [ 2.205, -0.562],\n",
       "       [ 1.44 ,  0.047],\n",
       "       [ 1.868, -0.295],\n",
       "       [ 2.752, -0.8  ],\n",
       "       [ 0.367,  1.562],\n",
       "       [ 2.302, -0.42 ],\n",
       "       [ 2.007,  0.711],\n",
       "       [ 2.26 , -1.921],\n",
       "       [ 1.364, -0.693],\n",
       "       [ 1.603,  0.422],\n",
       "       [ 1.884, -0.419],\n",
       "       [ 1.26 ,  1.162],\n",
       "       [ 1.468,  0.442],\n",
       "       [ 1.59 , -0.676],\n",
       "       [ 1.471, -0.256],\n",
       "       [ 2.426, -2.557],\n",
       "       [ 3.311, -0.018],\n",
       "       [ 1.264,  1.707],\n",
       "       [ 2.038, -0.91 ],\n",
       "       [ 0.978,  0.572],\n",
       "       [ 2.898, -0.414],\n",
       "       [ 1.333,  0.482],\n",
       "       [ 1.701, -1.014],\n",
       "       [ 1.954, -1.008],\n",
       "       [ 1.175,  0.316],\n",
       "       [ 1.021, -0.064],\n",
       "       [ 1.788,  0.187],\n",
       "       [ 1.864, -0.562],\n",
       "       [ 2.436, -0.259],\n",
       "       [ 2.305, -2.626],\n",
       "       [ 1.863,  0.179],\n",
       "       [ 1.114,  0.293],\n",
       "       [ 1.202,  0.811],\n",
       "       [ 2.799, -0.857],\n",
       "       [ 1.576, -1.069],\n",
       "       [ 1.346, -0.422],\n",
       "       [ 0.925, -0.017],\n",
       "       [ 1.852, -0.676],\n",
       "       [ 2.015, -0.614],\n",
       "       [ 1.902, -0.69 ],\n",
       "       [ 1.158,  0.699],\n",
       "       [ 2.041, -0.868],\n",
       "       [ 1.998, -1.049],\n",
       "       [ 1.871, -0.387],\n",
       "       [ 1.565,  0.897],\n",
       "       [ 1.521, -0.269],\n",
       "       [ 1.373, -1.011],\n",
       "       [ 0.961,  0.024]])"
      ]
     },
     "execution_count": 131,
     "metadata": {},
     "output_type": "execute_result"
    }
   ],
   "source": [
    "Y"
   ]
  },
  {
   "cell_type": "code",
   "execution_count": 126,
   "metadata": {},
   "outputs": [
    {
     "data": {
      "image/png": "[encoded data removed]",
      "text/plain": [
       "<Figure size 432x288 with 1 Axes>"
      ]
     },
     "metadata": {
      "needs_background": "light"
     },
     "output_type": "display_data"
    }
   ],
   "source": [
    "# y==0 인 row를 다 가져옴. 각각 0열과 1열 \n",
    "pl.scatter(Y[y==0, 0], Y[y==0, 1], c='r', label='setosa')\n",
    "# y==1 인 row를 다 가져옴. 각각 0열과 1열\n",
    "pl.scatter(Y[y==1, 0], Y[y==1, 1], c='g', label='versicolor')\n",
    "# y==2 인 row를 다 가져옴. 각각 0열과 1열\n",
    "pl.scatter(Y[y==2, 0], Y[y==2, 1], c='b', label='virginica')\n",
    "    \n",
    "pl.xlabel('pc 1')\n",
    "pl.ylabel('pc 2')\n",
    "pl.legend()\n",
    "pl.title('PCA IRIS')\n",
    "pl.show()"
   ]
  },
  {
   "cell_type": "code",
   "execution_count": null,
   "metadata": {},
   "outputs": [],
   "source": []
  }
 ],
 "metadata": {
  "kernelspec": {
   "display_name": "Python 3",
   "language": "python",
   "name": "python3"
  },
  "language_info": {
   "codemirror_mode": {
    "name": "ipython",
    "version": 3
   },
   "file_extension": ".py",
   "mimetype": "text/x-python",
   "name": "python",
   "nbconvert_exporter": "python",
   "pygments_lexer": "ipython3",
   "version": "3.8.5"
  }
 },
 "nbformat": 4,
 "nbformat_minor": 4
}
