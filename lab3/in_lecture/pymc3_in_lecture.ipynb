{
 "cells": [
  {
   "cell_type": "code",
   "execution_count": 2,
   "metadata": {},
   "outputs": [],
   "source": [
    "import arviz as az \n",
    "import matplotlib.pyplot as plt \n",
    "import numpy as np \n",
    "import pandas as pd \n",
    "import pymc3 as pm \n",
    "import theano "
   ]
  },
  {
   "cell_type": "code",
   "execution_count": 3,
   "metadata": {},
   "outputs": [
    {
     "name": "stdout",
     "output_type": "stream",
     "text": [
      "Running on PyMC3 v3.9.3\n"
     ]
    }
   ],
   "source": [
    "print('Running on PyMC3 v{}'.format(pm.__version__))"
   ]
  },
  {
   "cell_type": "code",
   "execution_count": 4,
   "metadata": {},
   "outputs": [],
   "source": [
    "%config InlineBackend.figure_format = 'retina'\n",
    "az.style.use('arviz-darkgrid')"
   ]
  },
  {
   "cell_type": "code",
   "execution_count": 5,
   "metadata": {},
   "outputs": [],
   "source": [
    "data = pd.read_csv(pm.get_data('radon.csv'))\n",
    "data['log_radon'] = data['log_radon'].astype(theano.config.floatX)\n",
    "\n",
    "# 카운티의 이름 확인 \n",
    "county_names = data.county.unique()\n",
    "# 카운티에 해당하는 코드가 따로 있는 듯\n",
    "# 예를 들어서\n",
    "# Aitkin --> 0 \n",
    "# Anoka  --> 1\n",
    "# Wright --> 83 \n",
    "county_idx = data.county_code.values"
   ]
  },
  {
   "cell_type": "code",
   "execution_count": 6,
   "metadata": {},
   "outputs": [],
   "source": [
    "# 전체 몇개의 카운티가 있냐를 확인 \n",
    "n_counties = len(data.county.unique())"
   ]
  },
  {
   "cell_type": "code",
   "execution_count": 7,
   "metadata": {},
   "outputs": [
    {
     "data": {
      "text/html": [
       "<div>\n",
       "<style scoped>\n",
       "    .dataframe tbody tr th:only-of-type {\n",
       "        vertical-align: middle;\n",
       "    }\n",
       "\n",
       "    .dataframe tbody tr th {\n",
       "        vertical-align: top;\n",
       "    }\n",
       "\n",
       "    .dataframe thead th {\n",
       "        text-align: right;\n",
       "    }\n",
       "</style>\n",
       "<table border=\"1\" class=\"dataframe\">\n",
       "  <thead>\n",
       "    <tr style=\"text-align: right;\">\n",
       "      <th></th>\n",
       "      <th>county</th>\n",
       "      <th>log_radon</th>\n",
       "      <th>floor</th>\n",
       "    </tr>\n",
       "  </thead>\n",
       "  <tbody>\n",
       "    <tr>\n",
       "      <th>0</th>\n",
       "      <td>AITKIN</td>\n",
       "      <td>0.832909</td>\n",
       "      <td>1.0</td>\n",
       "    </tr>\n",
       "    <tr>\n",
       "      <th>1</th>\n",
       "      <td>AITKIN</td>\n",
       "      <td>0.832909</td>\n",
       "      <td>0.0</td>\n",
       "    </tr>\n",
       "    <tr>\n",
       "      <th>2</th>\n",
       "      <td>AITKIN</td>\n",
       "      <td>1.098612</td>\n",
       "      <td>0.0</td>\n",
       "    </tr>\n",
       "    <tr>\n",
       "      <th>3</th>\n",
       "      <td>AITKIN</td>\n",
       "      <td>0.095310</td>\n",
       "      <td>0.0</td>\n",
       "    </tr>\n",
       "    <tr>\n",
       "      <th>4</th>\n",
       "      <td>ANOKA</td>\n",
       "      <td>1.163151</td>\n",
       "      <td>0.0</td>\n",
       "    </tr>\n",
       "  </tbody>\n",
       "</table>\n",
       "</div>"
      ],
      "text/plain": [
       "   county  log_radon  floor\n",
       "0  AITKIN   0.832909    1.0\n",
       "1  AITKIN   0.832909    0.0\n",
       "2  AITKIN   1.098612    0.0\n",
       "3  AITKIN   0.095310    0.0\n",
       "4   ANOKA   1.163151    0.0"
      ]
     },
     "execution_count": 7,
     "metadata": {},
     "output_type": "execute_result"
    }
   ],
   "source": [
    "data[['county', 'log_radon', 'floor']].head()\n",
    "# basement 가 있으면 floor == 0 만약에 없으면 floor == 1"
   ]
  },
  {
   "cell_type": "code",
   "execution_count": 8,
   "metadata": {},
   "outputs": [],
   "source": [
    "# 우리가 궁금한 것은 basement 가 있으면 radon 이 많이 검출 되나? "
   ]
  },
  {
   "cell_type": "markdown",
   "metadata": {},
   "source": [
    "### Unpooled Model"
   ]
  },
  {
   "cell_type": "code",
   "execution_count": 9,
   "metadata": {},
   "outputs": [],
   "source": [
    "# unpooled model  \n",
    "# --> estimate n (number of counties) different regressions - one for each county \n",
    "with pm.Model() as unpooled_model: \n",
    "    \n",
    "# independent parameters for each county \n",
    "# 우리가 지금은 각각의 카운티 마다 parameter 가 다르다. 이건 unpooled_model 이니까 \n",
    "    a = pm.Normal('a', 0, sigma=100, shape=n_counties)\n",
    "    b = pm.Normal('b', 0, sigma=100, shape=n_counties)\n",
    "    \n",
    "# model error \n",
    "    eps = pm.HalfCauchy('eps', 5)\n",
    "\n",
    "# model prediction of radon level \n",
    "# a[county_idx] translates to a [0, 0, 0, 1, 1, ...],\n",
    "# we thus link multimple household measures of a county \n",
    "    radon_est = a[county_idx] + b[county_idx] * data.floor.values \n",
    "    \n",
    "# data likelihood \n",
    "# radon_set : model prediction of radon level \n",
    "# observed=data.log_radon : target \n",
    "    y = pm.Normal('y', radon_est, sigma=eps, observed=data.log_radon)"
   ]
  },
  {
   "cell_type": "code",
   "execution_count": 10,
   "metadata": {},
   "outputs": [
    {
     "name": "stderr",
     "output_type": "stream",
     "text": [
      "Auto-assigning NUTS sampler...\n",
      "Initializing NUTS using jitter+adapt_diag...\n",
      "Multiprocess sampling (2 chains in 2 jobs)\n",
      "NUTS: [eps, b, a]\n"
     ]
    },
    {
     "data": {
      "text/html": [
       "\n",
       "    <div>\n",
       "        <style>\n",
       "            /* Turns off some styling */\n",
       "            progress {\n",
       "                /* gets rid of default border in Firefox and Opera. */\n",
       "                border: none;\n",
       "                /* Needs to be in here for Safari polyfill so background images work as expected. */\n",
       "                background-size: auto;\n",
       "            }\n",
       "            .progress-bar-interrupted, .progress-bar-interrupted::-webkit-progress-bar {\n",
       "                background: #F44336;\n",
       "            }\n",
       "        </style>\n",
       "      <progress value='6000' class='' max='6000' style='width:300px; height:20px; vertical-align: middle;'></progress>\n",
       "      100.00% [6000/6000 00:27<00:00 Sampling 2 chains, 0 divergences]\n",
       "    </div>\n",
       "    "
      ],
      "text/plain": [
       "<IPython.core.display.HTML object>"
      ]
     },
     "metadata": {},
     "output_type": "display_data"
    },
    {
     "name": "stderr",
     "output_type": "stream",
     "text": [
      "Sampling 2 chains for 1_000 tune and 2_000 draw iterations (2_000 + 4_000 draws total) took 35 seconds.\n"
     ]
    }
   ],
   "source": [
    "with unpooled_model: \n",
    "    # 여기서 posterior 을 approximation 하는데 sampling 기법으로 posterior 를 구할 것이다. 2000 iterations \n",
    "    unpooled_trace = pm.sample(2000)"
   ]
  },
  {
   "cell_type": "markdown",
   "metadata": {},
   "source": [
    "### Hierarchical Model"
   ]
  },
  {
   "cell_type": "code",
   "execution_count": 11,
   "metadata": {},
   "outputs": [],
   "source": [
    "# 모델을 위처럼 (unpooled model) 카운티 마다 다르게 하는 대신에, \n",
    "# hierarchical model 은 카운티 마다의 파라미터들이 unpooled model 처럼 \n",
    "# 완전 다르지는 않고 어느 정도는 연관성이 있다고 가정하고 들어가는 model. "
   ]
  },
  {
   "cell_type": "code",
   "execution_count": 12,
   "metadata": {},
   "outputs": [],
   "source": [
    "with pm.Model() as hierarchical_model:\n",
    "    # hyperpriors (hyperparameter) : 미리 정해주는 prior distribution \n",
    "    mu_a = pm.Normal('mu_a', mu=0, sigma=100)\n",
    "    sigma_a = pm.HalfNormal('sigma_a', 5.0)\n",
    "    \n",
    "    mu_b = pm.Normal('mu_b', mu=0, sigma=100)\n",
    "    sigma_b = pm.HalfNormal('sigma_b', 5.0)\n",
    "    \n",
    "    # 위와 다르게 여기서는 a 와 b 가 어떠한 distribution 을 가진다. \n",
    "    a = pm.Normal('a', mu=mu_a, sigma=sigma_a, shape=n_counties)\n",
    "    b = pm.Normal('b', mu=mu_b, sigma=sigma_b, shape=n_counties)\n",
    "    \n",
    "    eps = pm.HalfCauchy('eps', 5.0)\n",
    "    \n",
    "    # a == intercept\n",
    "    # b == slope \n",
    "    radon_est = a[county_idx] + b[county_idx]*data.floor.values\n",
    "    \n",
    "# data likelihood \n",
    "    radon_like = pm.Normal('radon_like', \n",
    "                           mu=radon_est,\n",
    "                           sigma=eps, \n",
    "                           observed=data.log_radon)"
   ]
  },
  {
   "cell_type": "code",
   "execution_count": null,
   "metadata": {},
   "outputs": [
    {
     "name": "stderr",
     "output_type": "stream",
     "text": [
      "Auto-assigning NUTS sampler...\n",
      "Initializing NUTS using jitter+adapt_diag...\n",
      "Multiprocess sampling (2 chains in 2 jobs)\n",
      "NUTS: [eps, b, a, sigma_b, mu_b, sigma_a, mu_a]\n"
     ]
    },
    {
     "data": {
      "text/html": [
       "\n",
       "    <div>\n",
       "        <style>\n",
       "            /* Turns off some styling */\n",
       "            progress {\n",
       "                /* gets rid of default border in Firefox and Opera. */\n",
       "                border: none;\n",
       "                /* Needs to be in here for Safari polyfill so background images work as expected. */\n",
       "                background-size: auto;\n",
       "            }\n",
       "            .progress-bar-interrupted, .progress-bar-interrupted::-webkit-progress-bar {\n",
       "                background: #F44336;\n",
       "            }\n",
       "        </style>\n",
       "      <progress value='5385' class='' max='8000' style='width:300px; height:20px; vertical-align: middle;'></progress>\n",
       "      67.31% [5385/8000 00:34<00:16 Sampling 2 chains, 0 divergences]\n",
       "    </div>\n",
       "    "
      ],
      "text/plain": [
       "<IPython.core.display.HTML object>"
      ]
     },
     "metadata": {},
     "output_type": "display_data"
    }
   ],
   "source": [
    "with hierarchical_model:\n",
    "    # 우리는 sampling 을 할때 현재로써는 다른 객기를 부리지 않고 default parameters (NUTS) 들을 이용한다. \n",
    "    # 이 말은 즉슨 우리는 일반적인 MCMC 를 이용할거다.\n",
    "    # metropolis hastings algorithm 을 쓸때에는 새로운 state 를 얼마의 확률로 accept 할 것인지 명시해 주어야 함. \n",
    "    hierarchical_trace = pm.sample(2000, tune=2000, target_accept=.9)"
   ]
  },
  {
   "cell_type": "code",
   "execution_count": null,
   "metadata": {},
   "outputs": [],
   "source": [
    "pm.traceplot(hierarchical_trace, \n",
    "             var_names=['mu_a', 'mu_b',\n",
    "                        'sigma_a', 'sigma_b', \n",
    "                        'eps'\n",
    "                       ]\n",
    "            );"
   ]
  },
  {
   "cell_type": "code",
   "execution_count": null,
   "metadata": {},
   "outputs": [],
   "source": [
    "pm.traceplot(hierarchical_trace,\n",
    "             var_names=['a'], \n",
    "             coords={'a_dim_0': range(5)\n",
    "                    }\n",
    "            );"
   ]
  },
  {
   "cell_type": "markdown",
   "metadata": {},
   "source": [
    "## Interpreting Graphs\n",
    "\n",
    "### 첫번째 4개의 그래프 \n",
    "\n",
    "mu_a --> tells us the group mean radon levels \n",
    "\n",
    "mu_b --> 우리의 모델이 현재 다음과 같다 : radon_est = a[county_idx] + b[county_idx]*data.floor.values \n",
    "\n",
    "여기에서 data.floor.values 는 0 또는 1인데, 만약에 0 이면 basement 가 있다는 것이고 1 이면 basement 가 없다고 했다. mu_b 의 값이 대략 -0.7 ~ ~0.5 사이에 분포하므로 basement 가 있을때 (data.floor.values == 0 이면) 보다 basement 가 없을때 (data.floor.values == 1) radon_est 의 값이 낮아지게 된다. \n",
    "\n",
    "### 두번째 한개의 그래프 \n",
    "\n",
    "There is quite some differences in radon levels between counties (each ‘rainbow’ color corresponds to a single county); the different widths are related to how much confidence we have in each parameter estimate – the more measurements per county, the higher our confidence will be."
   ]
  },
  {
   "cell_type": "markdown",
   "metadata": {},
   "source": [
    "## Posterior Predictive Check "
   ]
  },
  {
   "cell_type": "markdown",
   "metadata": {},
   "source": [
    "우리가 원하는 것은 위 두개의 모델중에 뭐가 더 좋은 모델이냐 이다. 그거를 Root Mean Square Deviaton (RMSD) 를 통하여 알 수 있다. "
   ]
  },
  {
   "cell_type": "code",
   "execution_count": null,
   "metadata": {},
   "outputs": [],
   "source": [
    "# county 이름들 : 'CASS', 'CROW WING', 'FREEBORN'\n",
    "selection = ['CASS', 'CROW WING', 'FREEBORN']\n",
    "fig, axis = plt.subplots(1,3, figsize=(12, 6), sharey=True, sharex=True)\n",
    "axis = axis.ravel()\n",
    "\n",
    "for i, c in enumerate(selection):\n",
    "    # data.county 가 (예를 들어서) 'CASS' 인 것을 다 가져온다. 그거를 c_data 에 집어 넣어 준다. \n",
    "    c_data = data[data.county == c]\n",
    "    # indexing 을 0 부터 다시 해준다. \n",
    "    c_data = c_data.reset_index(drop=True)\n",
    "    c_index = np.where(county_names == c)[0][0]\n",
    "    # z 에는 country_code 가 들어감 \n",
    "    z = list(c_data['county_code'])[0]\n",
    "    \n",
    "    xvals = np.linspace(-0.2, 1.2)\n",
    "    \n",
    "    for a_val, b_val in zip(unpooled_trace['a'][:, c_index], unpooled_trace['b'][:, c_index]):\n",
    "        axis[i].plot(xvals, \n",
    "                     a_val + b_val * xvals, \n",
    "                     'b', \n",
    "                     alpha = 0.1)\n",
    "        \n",
    "    axis[i].plot(xvals, \n",
    "                 unpooled_trace['a'][:, c_index].mean() + unpooled_trace['b'][:, c_index].mean() * xvals, \n",
    "                 'y',\n",
    "                 alpha=1, \n",
    "                 lw=2.0,\n",
    "                 label='unpooled(individual)')\n",
    "    \n",
    "    for a_val, b_val in zip(hierarchical_trace['a'][z], hierarchical_trace['b'][z]):\n",
    "        axis[i].plot(xvals, \n",
    "                     a_val + b_val * xvals, \n",
    "                     'g', \n",
    "                     alpha=0.1)\n",
    "        \n",
    "    axis[i].plot(xvals,\n",
    "                 hierarchical_trace['a'][z].mean() + hierarchical_trace['b'][z].mean() * xvals, \n",
    "                 'r',\n",
    "                 alpha=1,\n",
    "                 lw=2.0,\n",
    "                 label='hierarchical'\n",
    "                )\n",
    "    \n",
    "    axis[i].scatter(c_data.floor + np.random.randn(len(c_data)) * 0.01, \n",
    "                    c_data.log_radon, \n",
    "                    alpha=1,\n",
    "                    color='k',\n",
    "                    marker='.',\n",
    "                    s = 80,\n",
    "                    label='original data'\n",
    "                   )\n",
    "    \n",
    "    axis[i].set_xticks([0, 1])\n",
    "    axis[i].set_xticklabels(['basement', 'no basement'])\n",
    "    axis[i].set_ylim(-1, 4)\n",
    "    axis[i].set_title(c)\n",
    "    \n",
    "    \n",
    "    axis[0].legend()\n",
    "    axis[0].set_ylabel('log radon level')\n",
    "        \n",
    "    "
   ]
  },
  {
   "cell_type": "markdown",
   "metadata": {},
   "source": [
    "## Shrinkage"
   ]
  },
  {
   "cell_type": "markdown",
   "metadata": {},
   "source": [
    "Shrinkage describes the process by which our estimates are “pulled” towards the group-mean as a result of the common group distribution – county-coefficients very far away from the group mean have very low probability under the normality assumption, moving them closer to the group mean gives them higher probability. \n",
    "\n",
    "In the non-hierachical model every county is allowed to differ completely from the others by just using each county’s data, resulting in a model more prone to outliers (as shown above)."
   ]
  },
  {
   "cell_type": "code",
   "execution_count": null,
   "metadata": {},
   "outputs": [],
   "source": [
    "hier_a = hierarchical_trace['a'][500:].mean(axis=0)\n",
    "hier_b = hierarchical_trace['b'][500:].mean(axis=0)\n",
    "\n",
    "indv_a = [unpooled_trace['a'][500:, np.where(county_names==c)[0][0]].mean() for c in county_names]\n",
    "indv_b = [unpooled_trace['b'][500:, np.where(county_names==c)[0][0]].mean() for c in county_names]"
   ]
  },
  {
   "cell_type": "code",
   "execution_count": null,
   "metadata": {},
   "outputs": [],
   "source": [
    "fig = plt.figure(figsize=(6,6))\n",
    "ax = fig.add_subplot(111, \n",
    "                     xlabel='Intercept', \n",
    "                     ylabel='Floor Measure',\n",
    "                     title = 'Hierarchical vs Non-hierarchical Bayes',\n",
    "                     xlim=(0,3),\n",
    "                     ylim=(-3,3)\n",
    "                    )\n",
    "\n",
    "ax.scatter(indv_a, indv_b, c='b', s=26, alpha=0.4, label='non-hierarchical')\n",
    "ax.scatter(hier_a, hier_b, c='r', s=26, alpha=0.4, label='hierarchical')\n",
    "\n",
    "for i in range(len(indv_b)):\n",
    "    ax.arrow(indv_a[i], indv_b[i], \n",
    "             hier_a[i] - indv_a[i], hier_b[i] - indv_b[i],\n",
    "             fc = 'k',\n",
    "             ec = 'k',\n",
    "             length_includes_head=True,\n",
    "             alpha=0.4,\n",
    "             head_width=0.04\n",
    "            )\n",
    "    \n",
    "ax.legend();"
   ]
  },
  {
   "cell_type": "code",
   "execution_count": null,
   "metadata": {},
   "outputs": [],
   "source": []
  }
 ],
 "metadata": {
  "kernelspec": {
   "display_name": "Python 3",
   "language": "python",
   "name": "python3"
  },
  "language_info": {
   "codemirror_mode": {
    "name": "ipython",
    "version": 3
   },
   "file_extension": ".py",
   "mimetype": "text/x-python",
   "name": "python",
   "nbconvert_exporter": "python",
   "pygments_lexer": "ipython3",
   "version": "3.8.5"
  }
 },
 "nbformat": 4,
 "nbformat_minor": 4
}
